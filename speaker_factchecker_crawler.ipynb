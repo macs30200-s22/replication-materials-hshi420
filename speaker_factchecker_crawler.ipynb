{
 "cells": [
  {
   "cell_type": "code",
   "execution_count": 1,
   "id": "d84e194a",
   "metadata": {},
   "outputs": [],
   "source": [
    "from bs4 import BeautifulSoup\n",
    "import requests\n",
    "from tqdm import tqdm\n",
    "from concurrent.futures import ThreadPoolExecutor\n",
    "from functools import reduce\n",
    "from operator import iconcat \n",
    "import pandas as pd\n",
    "import numpy as np"
   ]
  },
  {
   "cell_type": "code",
   "execution_count": 2,
   "id": "2de5eedc",
   "metadata": {},
   "outputs": [],
   "source": [
    "def crawl_speaker(url):\n",
    "    fail = []\n",
    "    results = []\n",
    "    \n",
    "    try:\n",
    "        page = requests.get(url)\n",
    "        soup = BeautifulSoup(page.content, 'lxml')\n",
    "    except:\n",
    "        fail.append(url)\n",
    "        \n",
    "    try:\n",
    "        name = soup.find(class_ = 'm-pageheader__title')\n",
    "        name_str = name.get_text()\n",
    "        \n",
    "        name_wiki = 'https://en.wikipedia.org/wiki/' + name_str\n",
    "        \n",
    "        description = soup.find(class_ = 'm-pageheader__body')\n",
    "        description_str = description.get_text().strip()\n",
    "        \n",
    "        score = soup.find_all(class_ = 'm-scorecard__checks')\n",
    "        score_vals = [int(i.get_text().strip()[0]) for i in score]\n",
    "        \n",
    "    except:\n",
    "        fail.append(url)\n",
    "        \n",
    "    results.append([name_str,\n",
    "                    name_wiki,\n",
    "                    description_str] + score_vals)\n",
    "    \n",
    "    return results, fail"
   ]
  },
  {
   "cell_type": "code",
   "execution_count": 3,
   "id": "54b189de",
   "metadata": {},
   "outputs": [],
   "source": [
    "def crawl_factchecker(url):\n",
    "    fail = []\n",
    "    results = []\n",
    "    \n",
    "    try:\n",
    "        page = requests.get(url)\n",
    "        soup = BeautifulSoup(page.content, 'lxml')\n",
    "    except:\n",
    "        fail.append(url)\n",
    "        \n",
    "    try:\n",
    "        name = soup.find(class_ = 'm-pageheader__title')\n",
    "        name_str = name.get_text()\n",
    "    except:\n",
    "        print(url)\n",
    "        \n",
    "    position = soup.find(class_ = 'label-2')\n",
    "    position_str = position.get_text().strip()\n",
    "    \n",
    "\n",
    "    \n",
    "    description_str = ''\n",
    "        \n",
    "    if soup.find(class_ = 'm-pageheader__body').find('p') != None:\n",
    "         description = soup.find(class_ = 'm-pageheader__body').find('p')   \n",
    "         \n",
    "         description_str = description.get_text().strip()\n",
    "    \n",
    "    elif soup.find(class_ = 'm-pageheader__body').find('b') != None:\n",
    "         description = soup.find(class_ = 'm-pageheader__body').find('b')\n",
    "         \n",
    "         description_str = description.get_text().strip()\n",
    "            \n",
    "    elif soup.find(class_ = 'secondary-bio text-left bio-6') != None:\n",
    "         description = soup.find(class_ = 'secondary-bio text-left bio-6') \n",
    "         \n",
    "         description_str = description.get_text().strip()\n",
    "            \n",
    "    \n",
    "    if description_str == '':\n",
    "         description = soup.find(class_ = 'm-pageheader__body')\n",
    "        \n",
    "         description_str = description.contents[-2].get_text().strip()      \n",
    "                    \n",
    "\n",
    "                \n",
    "                \n",
    "                \n",
    "        \n",
    "\n",
    "    \n",
    "\n",
    "    results.append([name_str,\n",
    "                    position_str,\n",
    "                    description_str])\n",
    "\n",
    "    \n",
    "    return results, fail"
   ]
  },
  {
   "cell_type": "code",
   "execution_count": 4,
   "id": "894bb83d",
   "metadata": {},
   "outputs": [],
   "source": [
    "df = pd.read_csv('politifact.csv', encoding = 'latin1')"
   ]
  },
  {
   "cell_type": "code",
   "execution_count": 5,
   "id": "243e6d4d",
   "metadata": {},
   "outputs": [
    {
     "data": {
      "text/html": [
       "<div>\n",
       "<style scoped>\n",
       "    .dataframe tbody tr th:only-of-type {\n",
       "        vertical-align: middle;\n",
       "    }\n",
       "\n",
       "    .dataframe tbody tr th {\n",
       "        vertical-align: top;\n",
       "    }\n",
       "\n",
       "    .dataframe thead th {\n",
       "        text-align: right;\n",
       "    }\n",
       "</style>\n",
       "<table border=\"1\" class=\"dataframe\">\n",
       "  <thead>\n",
       "    <tr style=\"text-align: right;\">\n",
       "      <th></th>\n",
       "      <th>Unnamed: 0</th>\n",
       "      <th>url</th>\n",
       "      <th>speaker</th>\n",
       "      <th>speaker_info</th>\n",
       "      <th>statement</th>\n",
       "      <th>rating</th>\n",
       "      <th>where_when</th>\n",
       "      <th>title</th>\n",
       "      <th>content</th>\n",
       "      <th>content_html</th>\n",
       "      <th>factchecker</th>\n",
       "      <th>factchecker_info</th>\n",
       "      <th>factcheck_date</th>\n",
       "    </tr>\n",
       "  </thead>\n",
       "  <tbody>\n",
       "    <tr>\n",
       "      <th>0</th>\n",
       "      <td>0</td>\n",
       "      <td>https://www.politifact.com/factchecks/2022/mar...</td>\n",
       "      <td>Viral image</td>\n",
       "      <td>https://www.politifact.com/personalities/viral...</td>\n",
       "      <td>CNN staged a fire in Edmonton, Canada, and cla...</td>\n",
       "      <td>https://static.politifact.com/politifact/rulin...</td>\n",
       "      <td>stated on March 28, 2022 in a Facebook post:</td>\n",
       "      <td>No, this Edmonton jacket isnât proof CNN sta...</td>\n",
       "      <td>CNN anchor Don Lemon has been reporting from U...</td>\n",
       "      <td>&lt;article class=\"m-textblock\"&gt;\\n&lt;p&gt;CNN anchor D...</td>\n",
       "      <td>Ciara O'Rourke</td>\n",
       "      <td>https://www.politifact.com/staff/ciara-orourke/</td>\n",
       "      <td>March 28, 2022</td>\n",
       "    </tr>\n",
       "    <tr>\n",
       "      <th>1</th>\n",
       "      <td>1</td>\n",
       "      <td>https://www.politifact.com/factchecks/2022/mar...</td>\n",
       "      <td>Facebook posts</td>\n",
       "      <td>https://www.politifact.com/personalities/faceb...</td>\n",
       "      <td>The United Nations sent out an email instructi...</td>\n",
       "      <td>https://static.politifact.com/politifact/rulin...</td>\n",
       "      <td>stated on March 17, 2022 in a Facebook post:</td>\n",
       "      <td>Claim that the UN told staff not to use âwar...</td>\n",
       "      <td>The United Nations is being criticized by some...</td>\n",
       "      <td>&lt;article class=\"m-textblock\"&gt;\\n&lt;p&gt;The United N...</td>\n",
       "      <td>Samantha Putterman</td>\n",
       "      <td>https://www.politifact.com/staff/samantha-putt...</td>\n",
       "      <td>March 28, 2022</td>\n",
       "    </tr>\n",
       "    <tr>\n",
       "      <th>2</th>\n",
       "      <td>2</td>\n",
       "      <td>https://www.politifact.com/factchecks/2022/mar...</td>\n",
       "      <td>YouTube videos</td>\n",
       "      <td>https://www.politifact.com/personalities/youtu...</td>\n",
       "      <td>A video shows Ukraine President Volodymyr Zele...</td>\n",
       "      <td>https://static.politifact.com/politifact/rulin...</td>\n",
       "      <td>stated on March 19, 2022 in a YouTube video's ...</td>\n",
       "      <td>Does video show Zelenskyy singing âImagineâ...</td>\n",
       "      <td>A viral YouTube video watched more than 1 mill...</td>\n",
       "      <td>&lt;article class=\"m-textblock\"&gt;\\n&lt;p&gt;A viral YouT...</td>\n",
       "      <td>Bill McCarthy</td>\n",
       "      <td>https://www.politifact.com/staff/bill-mccarthy/</td>\n",
       "      <td>March 28, 2022</td>\n",
       "    </tr>\n",
       "    <tr>\n",
       "      <th>3</th>\n",
       "      <td>3</td>\n",
       "      <td>https://www.politifact.com/factchecks/2022/mar...</td>\n",
       "      <td>Eli Bremer</td>\n",
       "      <td>https://www.politifact.com/personalities/eli-b...</td>\n",
       "      <td>âIf you look at windmillsâ and the greenho...</td>\n",
       "      <td>https://static.politifact.com/politifact/rulin...</td>\n",
       "      <td>stated on March 23, 2022 in an interview with ...</td>\n",
       "      <td>A GOP Senate candidateâs muddled claim about...</td>\n",
       "      <td>Eli Bremer is one of seven Colorado Republican...</td>\n",
       "      <td>&lt;article class=\"m-textblock\"&gt;\\n&lt;p&gt;Eli Bremer i...</td>\n",
       "      <td>Jon Greenberg</td>\n",
       "      <td>https://www.politifact.com/staff/jon-greenberg/</td>\n",
       "      <td>March 28, 2022</td>\n",
       "    </tr>\n",
       "    <tr>\n",
       "      <th>4</th>\n",
       "      <td>4</td>\n",
       "      <td>https://www.politifact.com/factchecks/2022/mar...</td>\n",
       "      <td>Viral image</td>\n",
       "      <td>https://www.politifact.com/personalities/viral...</td>\n",
       "      <td>Republicans ânominated the 1st Black woman t...</td>\n",
       "      <td>https://static.politifact.com/politifact/rulin...</td>\n",
       "      <td>stated on March 25, 2022 in a Facebook post:</td>\n",
       "      <td>No, Janice Rogers Brown wasnât the first Bla...</td>\n",
       "      <td>News reports have described Judge Ketanji Brow...</td>\n",
       "      <td>&lt;article class=\"m-textblock\"&gt;\\n&lt;p&gt;News reports...</td>\n",
       "      <td>Ciara O'Rourke</td>\n",
       "      <td>https://www.politifact.com/staff/ciara-orourke/</td>\n",
       "      <td>March 28, 2022</td>\n",
       "    </tr>\n",
       "  </tbody>\n",
       "</table>\n",
       "</div>"
      ],
      "text/plain": [
       "   Unnamed: 0                                                url  \\\n",
       "0           0  https://www.politifact.com/factchecks/2022/mar...   \n",
       "1           1  https://www.politifact.com/factchecks/2022/mar...   \n",
       "2           2  https://www.politifact.com/factchecks/2022/mar...   \n",
       "3           3  https://www.politifact.com/factchecks/2022/mar...   \n",
       "4           4  https://www.politifact.com/factchecks/2022/mar...   \n",
       "\n",
       "          speaker                                       speaker_info  \\\n",
       "0     Viral image  https://www.politifact.com/personalities/viral...   \n",
       "1  Facebook posts  https://www.politifact.com/personalities/faceb...   \n",
       "2  YouTube videos  https://www.politifact.com/personalities/youtu...   \n",
       "3      Eli Bremer  https://www.politifact.com/personalities/eli-b...   \n",
       "4     Viral image  https://www.politifact.com/personalities/viral...   \n",
       "\n",
       "                                           statement  \\\n",
       "0  CNN staged a fire in Edmonton, Canada, and cla...   \n",
       "1  The United Nations sent out an email instructi...   \n",
       "2  A video shows Ukraine President Volodymyr Zele...   \n",
       "3  âIf you look at windmillsâ and the greenho...   \n",
       "4  Republicans ânominated the 1st Black woman t...   \n",
       "\n",
       "                                              rating  \\\n",
       "0  https://static.politifact.com/politifact/rulin...   \n",
       "1  https://static.politifact.com/politifact/rulin...   \n",
       "2  https://static.politifact.com/politifact/rulin...   \n",
       "3  https://static.politifact.com/politifact/rulin...   \n",
       "4  https://static.politifact.com/politifact/rulin...   \n",
       "\n",
       "                                          where_when  \\\n",
       "0       stated on March 28, 2022 in a Facebook post:   \n",
       "1       stated on March 17, 2022 in a Facebook post:   \n",
       "2  stated on March 19, 2022 in a YouTube video's ...   \n",
       "3  stated on March 23, 2022 in an interview with ...   \n",
       "4       stated on March 25, 2022 in a Facebook post:   \n",
       "\n",
       "                                               title  \\\n",
       "0  No, this Edmonton jacket isnât proof CNN sta...   \n",
       "1  Claim that the UN told staff not to use âwar...   \n",
       "2  Does video show Zelenskyy singing âImagineâ...   \n",
       "3  A GOP Senate candidateâs muddled claim about...   \n",
       "4  No, Janice Rogers Brown wasnât the first Bla...   \n",
       "\n",
       "                                             content  \\\n",
       "0  CNN anchor Don Lemon has been reporting from U...   \n",
       "1  The United Nations is being criticized by some...   \n",
       "2  A viral YouTube video watched more than 1 mill...   \n",
       "3  Eli Bremer is one of seven Colorado Republican...   \n",
       "4  News reports have described Judge Ketanji Brow...   \n",
       "\n",
       "                                        content_html         factchecker  \\\n",
       "0  <article class=\"m-textblock\">\\n<p>CNN anchor D...      Ciara O'Rourke   \n",
       "1  <article class=\"m-textblock\">\\n<p>The United N...  Samantha Putterman   \n",
       "2  <article class=\"m-textblock\">\\n<p>A viral YouT...       Bill McCarthy   \n",
       "3  <article class=\"m-textblock\">\\n<p>Eli Bremer i...       Jon Greenberg   \n",
       "4  <article class=\"m-textblock\">\\n<p>News reports...      Ciara O'Rourke   \n",
       "\n",
       "                                    factchecker_info  factcheck_date  \n",
       "0    https://www.politifact.com/staff/ciara-orourke/  March 28, 2022  \n",
       "1  https://www.politifact.com/staff/samantha-putt...  March 28, 2022  \n",
       "2    https://www.politifact.com/staff/bill-mccarthy/  March 28, 2022  \n",
       "3    https://www.politifact.com/staff/jon-greenberg/  March 28, 2022  \n",
       "4    https://www.politifact.com/staff/ciara-orourke/  March 28, 2022  "
      ]
     },
     "execution_count": 5,
     "metadata": {},
     "output_type": "execute_result"
    }
   ],
   "source": [
    "df.head()"
   ]
  },
  {
   "cell_type": "code",
   "execution_count": 6,
   "id": "f41a0e0f",
   "metadata": {},
   "outputs": [],
   "source": [
    "speaker_list = list(set(df.speaker_info))"
   ]
  },
  {
   "cell_type": "code",
   "execution_count": 7,
   "id": "004e0ddb",
   "metadata": {},
   "outputs": [
    {
     "data": {
      "text/plain": [
       "4550"
      ]
     },
     "execution_count": 7,
     "metadata": {},
     "output_type": "execute_result"
    }
   ],
   "source": [
    "len(speaker_list)"
   ]
  },
  {
   "cell_type": "code",
   "execution_count": 8,
   "id": "dae59a17",
   "metadata": {},
   "outputs": [],
   "source": [
    "results = []\n",
    "fails = []\n",
    "for i in speaker_list:\n",
    "    info = crawl_speaker(i)\n",
    "    results.append(info[0])\n",
    "    fails.append(info[1])"
   ]
  },
  {
   "cell_type": "code",
   "execution_count": 9,
   "id": "de6a9ee0",
   "metadata": {},
   "outputs": [],
   "source": [
    "df = pd.DataFrame(reduce(iconcat, results), columns=['speaker', \n",
    "                                                         'wiki_link', \n",
    "                                                         'description', \n",
    "                                                         'true', \n",
    "                                                         'mostly_true', \n",
    "                                                         'half_true', \n",
    "                                                         'mostly_false', \n",
    "                                                         'false', \n",
    "                                                         'pants_on_fire'])\n",
    "\n",
    "df.to_csv('speaker.csv')"
   ]
  },
  {
   "cell_type": "code",
   "execution_count": 10,
   "id": "a10a7dd4",
   "metadata": {},
   "outputs": [
    {
     "data": {
      "text/plain": [
       "4550"
      ]
     },
     "execution_count": 10,
     "metadata": {},
     "output_type": "execute_result"
    }
   ],
   "source": [
    "len(df)"
   ]
  },
  {
   "cell_type": "code",
   "execution_count": 11,
   "id": "f36be8ee",
   "metadata": {},
   "outputs": [],
   "source": [
    "df = pd.read_csv('politifact.csv', encoding = 'latin1')"
   ]
  },
  {
   "cell_type": "code",
   "execution_count": 12,
   "id": "db240db7",
   "metadata": {},
   "outputs": [],
   "source": [
    "factchecker_list = list(set(df.factchecker_info))"
   ]
  },
  {
   "cell_type": "code",
   "execution_count": 13,
   "id": "f06a3874",
   "metadata": {},
   "outputs": [
    {
     "data": {
      "text/plain": [
       "550"
      ]
     },
     "execution_count": 13,
     "metadata": {},
     "output_type": "execute_result"
    }
   ],
   "source": [
    "len(factchecker_list)"
   ]
  },
  {
   "cell_type": "code",
   "execution_count": 14,
   "id": "e45d6fd1",
   "metadata": {
    "scrolled": true
   },
   "outputs": [],
   "source": [
    "results = []\n",
    "fails = []\n",
    "for i in factchecker_list:\n",
    "    info = crawl_factchecker(i)\n",
    "    results.append(info[0])\n",
    "    fails.append(info[1])"
   ]
  },
  {
   "cell_type": "code",
   "execution_count": 15,
   "id": "ac69c174",
   "metadata": {},
   "outputs": [],
   "source": [
    "df = pd.DataFrame(reduce(iconcat, results), columns=['factchecker', \n",
    "                                                         'position', \n",
    "                                                         'description'])\n",
    "\n",
    "df.to_csv('factchecker.csv')"
   ]
  },
  {
   "cell_type": "code",
   "execution_count": 16,
   "id": "615cf810",
   "metadata": {},
   "outputs": [
    {
     "data": {
      "text/plain": [
       "550"
      ]
     },
     "execution_count": 16,
     "metadata": {},
     "output_type": "execute_result"
    }
   ],
   "source": [
    "len(df)"
   ]
  },
  {
   "cell_type": "code",
   "execution_count": 17,
   "id": "63829ae8",
   "metadata": {},
   "outputs": [],
   "source": [
    "speaker = pd.read_csv('speaker.csv')"
   ]
  },
  {
   "cell_type": "code",
   "execution_count": 18,
   "id": "e5a9add2",
   "metadata": {},
   "outputs": [],
   "source": [
    "factchecker = pd.read_csv('factchecker.csv')"
   ]
  },
  {
   "cell_type": "code",
   "execution_count": 19,
   "id": "6bc2ea1c",
   "metadata": {},
   "outputs": [
    {
     "data": {
      "text/html": [
       "<div>\n",
       "<style scoped>\n",
       "    .dataframe tbody tr th:only-of-type {\n",
       "        vertical-align: middle;\n",
       "    }\n",
       "\n",
       "    .dataframe tbody tr th {\n",
       "        vertical-align: top;\n",
       "    }\n",
       "\n",
       "    .dataframe thead th {\n",
       "        text-align: right;\n",
       "    }\n",
       "</style>\n",
       "<table border=\"1\" class=\"dataframe\">\n",
       "  <thead>\n",
       "    <tr style=\"text-align: right;\">\n",
       "      <th></th>\n",
       "      <th>Unnamed: 0</th>\n",
       "      <th>speaker</th>\n",
       "      <th>wiki_link</th>\n",
       "      <th>description</th>\n",
       "      <th>true</th>\n",
       "      <th>mostly_true</th>\n",
       "      <th>half_true</th>\n",
       "      <th>mostly_false</th>\n",
       "      <th>false</th>\n",
       "      <th>pants_on_fire</th>\n",
       "    </tr>\n",
       "  </thead>\n",
       "  <tbody>\n",
       "    <tr>\n",
       "      <th>0</th>\n",
       "      <td>0</td>\n",
       "      <td>Alex Padilla</td>\n",
       "      <td>https://en.wikipedia.org/wiki/Alex Padilla</td>\n",
       "      <td>Alex Padilla was appointed to fill a U.S. Sena...</td>\n",
       "      <td>0</td>\n",
       "      <td>1</td>\n",
       "      <td>0</td>\n",
       "      <td>0</td>\n",
       "      <td>0</td>\n",
       "      <td>0</td>\n",
       "    </tr>\n",
       "    <tr>\n",
       "      <th>1</th>\n",
       "      <td>1</td>\n",
       "      <td>Campaign for America's Future</td>\n",
       "      <td>https://en.wikipedia.org/wiki/ Campaign for Am...</td>\n",
       "      <td>The Campaign for America's Future bills itself...</td>\n",
       "      <td>0</td>\n",
       "      <td>0</td>\n",
       "      <td>0</td>\n",
       "      <td>0</td>\n",
       "      <td>0</td>\n",
       "      <td>1</td>\n",
       "    </tr>\n",
       "    <tr>\n",
       "      <th>2</th>\n",
       "      <td>2</td>\n",
       "      <td>Juan Williams</td>\n",
       "      <td>https://en.wikipedia.org/wiki/Juan Williams</td>\n",
       "      <td>Juan Williams is a Fox pundit.</td>\n",
       "      <td>1</td>\n",
       "      <td>1</td>\n",
       "      <td>3</td>\n",
       "      <td>2</td>\n",
       "      <td>0</td>\n",
       "      <td>0</td>\n",
       "    </tr>\n",
       "    <tr>\n",
       "      <th>3</th>\n",
       "      <td>3</td>\n",
       "      <td>Matt Tighe</td>\n",
       "      <td>https://en.wikipedia.org/wiki/Matt Tighe</td>\n",
       "      <td>Matt Tighe is the campaign manager for Democra...</td>\n",
       "      <td>0</td>\n",
       "      <td>0</td>\n",
       "      <td>0</td>\n",
       "      <td>1</td>\n",
       "      <td>0</td>\n",
       "      <td>0</td>\n",
       "    </tr>\n",
       "    <tr>\n",
       "      <th>4</th>\n",
       "      <td>4</td>\n",
       "      <td>Brent Barton</td>\n",
       "      <td>https://en.wikipedia.org/wiki/Brent Barton</td>\n",
       "      <td>Brent Barton is an attorney and former state r...</td>\n",
       "      <td>0</td>\n",
       "      <td>0</td>\n",
       "      <td>0</td>\n",
       "      <td>1</td>\n",
       "      <td>0</td>\n",
       "      <td>0</td>\n",
       "    </tr>\n",
       "  </tbody>\n",
       "</table>\n",
       "</div>"
      ],
      "text/plain": [
       "   Unnamed: 0                         speaker  \\\n",
       "0           0                    Alex Padilla   \n",
       "1           1   Campaign for America's Future   \n",
       "2           2                   Juan Williams   \n",
       "3           3                      Matt Tighe   \n",
       "4           4                    Brent Barton   \n",
       "\n",
       "                                           wiki_link  \\\n",
       "0         https://en.wikipedia.org/wiki/Alex Padilla   \n",
       "1  https://en.wikipedia.org/wiki/ Campaign for Am...   \n",
       "2        https://en.wikipedia.org/wiki/Juan Williams   \n",
       "3           https://en.wikipedia.org/wiki/Matt Tighe   \n",
       "4         https://en.wikipedia.org/wiki/Brent Barton   \n",
       "\n",
       "                                         description  true  mostly_true  \\\n",
       "0  Alex Padilla was appointed to fill a U.S. Sena...     0            1   \n",
       "1  The Campaign for America's Future bills itself...     0            0   \n",
       "2                     Juan Williams is a Fox pundit.     1            1   \n",
       "3  Matt Tighe is the campaign manager for Democra...     0            0   \n",
       "4  Brent Barton is an attorney and former state r...     0            0   \n",
       "\n",
       "   half_true  mostly_false  false  pants_on_fire  \n",
       "0          0             0      0              0  \n",
       "1          0             0      0              1  \n",
       "2          3             2      0              0  \n",
       "3          0             1      0              0  \n",
       "4          0             1      0              0  "
      ]
     },
     "execution_count": 19,
     "metadata": {},
     "output_type": "execute_result"
    }
   ],
   "source": [
    "speaker.head()"
   ]
  },
  {
   "cell_type": "code",
   "execution_count": 20,
   "id": "9ed0e7cb",
   "metadata": {},
   "outputs": [
    {
     "data": {
      "text/html": [
       "<div>\n",
       "<style scoped>\n",
       "    .dataframe tbody tr th:only-of-type {\n",
       "        vertical-align: middle;\n",
       "    }\n",
       "\n",
       "    .dataframe tbody tr th {\n",
       "        vertical-align: top;\n",
       "    }\n",
       "\n",
       "    .dataframe thead th {\n",
       "        text-align: right;\n",
       "    }\n",
       "</style>\n",
       "<table border=\"1\" class=\"dataframe\">\n",
       "  <thead>\n",
       "    <tr style=\"text-align: right;\">\n",
       "      <th></th>\n",
       "      <th>Unnamed: 0</th>\n",
       "      <th>factchecker</th>\n",
       "      <th>position</th>\n",
       "      <th>description</th>\n",
       "    </tr>\n",
       "  </thead>\n",
       "  <tbody>\n",
       "    <tr>\n",
       "      <th>0</th>\n",
       "      <td>0</td>\n",
       "      <td>Mylana Chico</td>\n",
       "      <td>Reporter</td>\n",
       "      <td>Mylana Chico is a reporter with PolitiFact Wes...</td>\n",
       "    </tr>\n",
       "    <tr>\n",
       "      <th>1</th>\n",
       "      <td>1</td>\n",
       "      <td>Jacob Carpenter</td>\n",
       "      <td>Reporter</td>\n",
       "      <td>Jacob Carpenter is a reporter at the Milwaukee...</td>\n",
       "    </tr>\n",
       "    <tr>\n",
       "      <th>2</th>\n",
       "      <td>2</td>\n",
       "      <td>Jaren Holmes</td>\n",
       "      <td>Reporter</td>\n",
       "      <td>Jaren English is a reporter with PolitiFact Ne...</td>\n",
       "    </tr>\n",
       "    <tr>\n",
       "      <th>3</th>\n",
       "      <td>3</td>\n",
       "      <td>Peter Lord</td>\n",
       "      <td>Reporter</td>\n",
       "      <td>Peter B. Lord has been a reporter at The Provi...</td>\n",
       "    </tr>\n",
       "    <tr>\n",
       "      <th>4</th>\n",
       "      <td>4</td>\n",
       "      <td>Therese Bottomly</td>\n",
       "      <td>Managing Editor</td>\n",
       "      <td>Therese Bottomly is a managing editor at The O...</td>\n",
       "    </tr>\n",
       "  </tbody>\n",
       "</table>\n",
       "</div>"
      ],
      "text/plain": [
       "   Unnamed: 0       factchecker         position  \\\n",
       "0           0      Mylana Chico         Reporter   \n",
       "1           1   Jacob Carpenter         Reporter   \n",
       "2           2      Jaren Holmes         Reporter   \n",
       "3           3        Peter Lord         Reporter   \n",
       "4           4  Therese Bottomly  Managing Editor   \n",
       "\n",
       "                                         description  \n",
       "0  Mylana Chico is a reporter with PolitiFact Wes...  \n",
       "1  Jacob Carpenter is a reporter at the Milwaukee...  \n",
       "2  Jaren English is a reporter with PolitiFact Ne...  \n",
       "3  Peter B. Lord has been a reporter at The Provi...  \n",
       "4  Therese Bottomly is a managing editor at The O...  "
      ]
     },
     "execution_count": 20,
     "metadata": {},
     "output_type": "execute_result"
    }
   ],
   "source": [
    "factchecker.head()"
   ]
  },
  {
   "cell_type": "code",
   "execution_count": 21,
   "id": "626956f4",
   "metadata": {},
   "outputs": [
    {
     "data": {
      "text/plain": [
       "Unnamed: 0       0\n",
       "speaker          0\n",
       "wiki_link        0\n",
       "description      8\n",
       "true             0\n",
       "mostly_true      0\n",
       "half_true        0\n",
       "mostly_false     0\n",
       "false            0\n",
       "pants_on_fire    0\n",
       "dtype: int64"
      ]
     },
     "execution_count": 21,
     "metadata": {},
     "output_type": "execute_result"
    }
   ],
   "source": [
    "speaker.isna().sum()"
   ]
  },
  {
   "cell_type": "code",
   "execution_count": 22,
   "id": "6a12fd36",
   "metadata": {},
   "outputs": [
    {
     "data": {
      "text/plain": [
       "Unnamed: 0     0\n",
       "factchecker    0\n",
       "position       0\n",
       "description    0\n",
       "dtype: int64"
      ]
     },
     "execution_count": 22,
     "metadata": {},
     "output_type": "execute_result"
    }
   ],
   "source": [
    "factchecker.isna().sum()"
   ]
  },
  {
   "cell_type": "code",
   "execution_count": null,
   "id": "89aedf46",
   "metadata": {},
   "outputs": [],
   "source": []
  }
 ],
 "metadata": {
  "kernelspec": {
   "display_name": "Python 3 (ipykernel)",
   "language": "python",
   "name": "python3"
  },
  "language_info": {
   "codemirror_mode": {
    "name": "ipython",
    "version": 3
   },
   "file_extension": ".py",
   "mimetype": "text/x-python",
   "name": "python",
   "nbconvert_exporter": "python",
   "pygments_lexer": "ipython3",
   "version": "3.9.7"
  }
 },
 "nbformat": 4,
 "nbformat_minor": 5
}
