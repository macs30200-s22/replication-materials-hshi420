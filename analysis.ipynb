{
 "cells": [
  {
   "cell_type": "code",
   "execution_count": 1,
   "id": "514fbb3e",
   "metadata": {},
   "outputs": [],
   "source": [
    "import pandas as pd"
   ]
  },
  {
   "cell_type": "code",
   "execution_count": 166,
   "id": "45b1b131",
   "metadata": {},
   "outputs": [],
   "source": [
    "df = pd.read_csv('politifact.csv')"
   ]
  },
  {
   "cell_type": "code",
   "execution_count": 167,
   "id": "05c30db0",
   "metadata": {},
   "outputs": [
    {
     "data": {
      "text/html": [
       "<div>\n",
       "<style scoped>\n",
       "    .dataframe tbody tr th:only-of-type {\n",
       "        vertical-align: middle;\n",
       "    }\n",
       "\n",
       "    .dataframe tbody tr th {\n",
       "        vertical-align: top;\n",
       "    }\n",
       "\n",
       "    .dataframe thead th {\n",
       "        text-align: right;\n",
       "    }\n",
       "</style>\n",
       "<table border=\"1\" class=\"dataframe\">\n",
       "  <thead>\n",
       "    <tr style=\"text-align: right;\">\n",
       "      <th></th>\n",
       "      <th>Unnamed: 0</th>\n",
       "      <th>url</th>\n",
       "      <th>speaker</th>\n",
       "      <th>speaker_info</th>\n",
       "      <th>statement</th>\n",
       "      <th>rating</th>\n",
       "      <th>where_when</th>\n",
       "      <th>title</th>\n",
       "      <th>content</th>\n",
       "      <th>content_html</th>\n",
       "      <th>factchecker</th>\n",
       "      <th>factchecker_info</th>\n",
       "      <th>factcheck_date</th>\n",
       "    </tr>\n",
       "  </thead>\n",
       "  <tbody>\n",
       "    <tr>\n",
       "      <th>0</th>\n",
       "      <td>0</td>\n",
       "      <td>https://www.politifact.com/factchecks/2022/mar...</td>\n",
       "      <td>Viral image</td>\n",
       "      <td>https://www.politifact.com/personalities/viral...</td>\n",
       "      <td>CNN staged a fire in Edmonton, Canada, and cla...</td>\n",
       "      <td>https://static.politifact.com/politifact/rulin...</td>\n",
       "      <td>stated on March 28, 2022 in a Facebook post:</td>\n",
       "      <td>No, this Edmonton jacket isn’t proof CNN stage...</td>\n",
       "      <td>CNN anchor Don Lemon has been reporting from U...</td>\n",
       "      <td>&lt;article class=\"m-textblock\"&gt;\\n&lt;p&gt;CNN anchor D...</td>\n",
       "      <td>Ciara O'Rourke</td>\n",
       "      <td>https://www.politifact.com/staff/ciara-orourke/</td>\n",
       "      <td>March 28, 2022</td>\n",
       "    </tr>\n",
       "    <tr>\n",
       "      <th>1</th>\n",
       "      <td>1</td>\n",
       "      <td>https://www.politifact.com/factchecks/2022/mar...</td>\n",
       "      <td>Facebook posts</td>\n",
       "      <td>https://www.politifact.com/personalities/faceb...</td>\n",
       "      <td>The United Nations sent out an email instructi...</td>\n",
       "      <td>https://static.politifact.com/politifact/rulin...</td>\n",
       "      <td>stated on March 17, 2022 in a Facebook post:</td>\n",
       "      <td>Claim that the UN told staff not to use ‘war,’...</td>\n",
       "      <td>The United Nations is being criticized by some...</td>\n",
       "      <td>&lt;article class=\"m-textblock\"&gt;\\n&lt;p&gt;The United N...</td>\n",
       "      <td>Samantha Putterman</td>\n",
       "      <td>https://www.politifact.com/staff/samantha-putt...</td>\n",
       "      <td>March 28, 2022</td>\n",
       "    </tr>\n",
       "    <tr>\n",
       "      <th>2</th>\n",
       "      <td>2</td>\n",
       "      <td>https://www.politifact.com/factchecks/2022/mar...</td>\n",
       "      <td>YouTube videos</td>\n",
       "      <td>https://www.politifact.com/personalities/youtu...</td>\n",
       "      <td>A video shows Ukraine President Volodymyr Zele...</td>\n",
       "      <td>https://static.politifact.com/politifact/rulin...</td>\n",
       "      <td>stated on March 19, 2022 in a YouTube video's ...</td>\n",
       "      <td>Does video show Zelenskyy singing ‘Imagine’ by...</td>\n",
       "      <td>A viral YouTube video watched more than 1 mill...</td>\n",
       "      <td>&lt;article class=\"m-textblock\"&gt;\\n&lt;p&gt;A viral YouT...</td>\n",
       "      <td>Bill McCarthy</td>\n",
       "      <td>https://www.politifact.com/staff/bill-mccarthy/</td>\n",
       "      <td>March 28, 2022</td>\n",
       "    </tr>\n",
       "    <tr>\n",
       "      <th>3</th>\n",
       "      <td>3</td>\n",
       "      <td>https://www.politifact.com/factchecks/2022/mar...</td>\n",
       "      <td>Eli Bremer</td>\n",
       "      <td>https://www.politifact.com/personalities/eli-b...</td>\n",
       "      <td>“If you look at windmills” and the greenhouse ...</td>\n",
       "      <td>https://static.politifact.com/politifact/rulin...</td>\n",
       "      <td>stated on March 23, 2022 in an interview with ...</td>\n",
       "      <td>A GOP Senate candidate’s muddled claim about w...</td>\n",
       "      <td>Eli Bremer is one of seven Colorado Republican...</td>\n",
       "      <td>&lt;article class=\"m-textblock\"&gt;\\n&lt;p&gt;Eli Bremer i...</td>\n",
       "      <td>Jon Greenberg</td>\n",
       "      <td>https://www.politifact.com/staff/jon-greenberg/</td>\n",
       "      <td>March 28, 2022</td>\n",
       "    </tr>\n",
       "    <tr>\n",
       "      <th>4</th>\n",
       "      <td>4</td>\n",
       "      <td>https://www.politifact.com/factchecks/2022/mar...</td>\n",
       "      <td>Viral image</td>\n",
       "      <td>https://www.politifact.com/personalities/viral...</td>\n",
       "      <td>Republicans “nominated the 1st Black woman to ...</td>\n",
       "      <td>https://static.politifact.com/politifact/rulin...</td>\n",
       "      <td>stated on March 25, 2022 in a Facebook post:</td>\n",
       "      <td>No, Janice Rogers Brown wasn’t the first Black...</td>\n",
       "      <td>News reports have described Judge Ketanji Brow...</td>\n",
       "      <td>&lt;article class=\"m-textblock\"&gt;\\n&lt;p&gt;News reports...</td>\n",
       "      <td>Ciara O'Rourke</td>\n",
       "      <td>https://www.politifact.com/staff/ciara-orourke/</td>\n",
       "      <td>March 28, 2022</td>\n",
       "    </tr>\n",
       "  </tbody>\n",
       "</table>\n",
       "</div>"
      ],
      "text/plain": [
       "   Unnamed: 0                                                url  \\\n",
       "0           0  https://www.politifact.com/factchecks/2022/mar...   \n",
       "1           1  https://www.politifact.com/factchecks/2022/mar...   \n",
       "2           2  https://www.politifact.com/factchecks/2022/mar...   \n",
       "3           3  https://www.politifact.com/factchecks/2022/mar...   \n",
       "4           4  https://www.politifact.com/factchecks/2022/mar...   \n",
       "\n",
       "          speaker                                       speaker_info  \\\n",
       "0     Viral image  https://www.politifact.com/personalities/viral...   \n",
       "1  Facebook posts  https://www.politifact.com/personalities/faceb...   \n",
       "2  YouTube videos  https://www.politifact.com/personalities/youtu...   \n",
       "3      Eli Bremer  https://www.politifact.com/personalities/eli-b...   \n",
       "4     Viral image  https://www.politifact.com/personalities/viral...   \n",
       "\n",
       "                                           statement  \\\n",
       "0  CNN staged a fire in Edmonton, Canada, and cla...   \n",
       "1  The United Nations sent out an email instructi...   \n",
       "2  A video shows Ukraine President Volodymyr Zele...   \n",
       "3  “If you look at windmills” and the greenhouse ...   \n",
       "4  Republicans “nominated the 1st Black woman to ...   \n",
       "\n",
       "                                              rating  \\\n",
       "0  https://static.politifact.com/politifact/rulin...   \n",
       "1  https://static.politifact.com/politifact/rulin...   \n",
       "2  https://static.politifact.com/politifact/rulin...   \n",
       "3  https://static.politifact.com/politifact/rulin...   \n",
       "4  https://static.politifact.com/politifact/rulin...   \n",
       "\n",
       "                                          where_when  \\\n",
       "0       stated on March 28, 2022 in a Facebook post:   \n",
       "1       stated on March 17, 2022 in a Facebook post:   \n",
       "2  stated on March 19, 2022 in a YouTube video's ...   \n",
       "3  stated on March 23, 2022 in an interview with ...   \n",
       "4       stated on March 25, 2022 in a Facebook post:   \n",
       "\n",
       "                                               title  \\\n",
       "0  No, this Edmonton jacket isn’t proof CNN stage...   \n",
       "1  Claim that the UN told staff not to use ‘war,’...   \n",
       "2  Does video show Zelenskyy singing ‘Imagine’ by...   \n",
       "3  A GOP Senate candidate’s muddled claim about w...   \n",
       "4  No, Janice Rogers Brown wasn’t the first Black...   \n",
       "\n",
       "                                             content  \\\n",
       "0  CNN anchor Don Lemon has been reporting from U...   \n",
       "1  The United Nations is being criticized by some...   \n",
       "2  A viral YouTube video watched more than 1 mill...   \n",
       "3  Eli Bremer is one of seven Colorado Republican...   \n",
       "4  News reports have described Judge Ketanji Brow...   \n",
       "\n",
       "                                        content_html         factchecker  \\\n",
       "0  <article class=\"m-textblock\">\\n<p>CNN anchor D...      Ciara O'Rourke   \n",
       "1  <article class=\"m-textblock\">\\n<p>The United N...  Samantha Putterman   \n",
       "2  <article class=\"m-textblock\">\\n<p>A viral YouT...       Bill McCarthy   \n",
       "3  <article class=\"m-textblock\">\\n<p>Eli Bremer i...       Jon Greenberg   \n",
       "4  <article class=\"m-textblock\">\\n<p>News reports...      Ciara O'Rourke   \n",
       "\n",
       "                                    factchecker_info  factcheck_date  \n",
       "0    https://www.politifact.com/staff/ciara-orourke/  March 28, 2022  \n",
       "1  https://www.politifact.com/staff/samantha-putt...  March 28, 2022  \n",
       "2    https://www.politifact.com/staff/bill-mccarthy/  March 28, 2022  \n",
       "3    https://www.politifact.com/staff/jon-greenberg/  March 28, 2022  \n",
       "4    https://www.politifact.com/staff/ciara-orourke/  March 28, 2022  "
      ]
     },
     "execution_count": 167,
     "metadata": {},
     "output_type": "execute_result"
    }
   ],
   "source": [
    "df.head()"
   ]
  },
  {
   "cell_type": "code",
   "execution_count": 175,
   "id": "78bb796c",
   "metadata": {},
   "outputs": [],
   "source": [
    "df['party'] = df_cleaned['party']"
   ]
  },
  {
   "cell_type": "code",
   "execution_count": 176,
   "id": "5db23745",
   "metadata": {},
   "outputs": [],
   "source": [
    "meter = ['mostly true', 'half true', 'true', 'mostly false', 'false', \n",
    "         'pants on fire', 'full flop', 'no flip', 'half flip', 'half-flip', 'full-flip', 'no-flip']"
   ]
  },
  {
   "cell_type": "code",
   "execution_count": 177,
   "id": "380ca199",
   "metadata": {},
   "outputs": [],
   "source": [
    "rating = []\n",
    "for row in df.iloc:\n",
    "    article = row.content.lower()\n",
    "    flag = 0\n",
    "    for rate in meter:\n",
    "        if rate in article:\n",
    "            flag = 1\n",
    "            rating.append(rate)\n",
    "            break\n",
    "    if flag == 0:\n",
    "        rating.append('none')"
   ]
  },
  {
   "cell_type": "code",
   "execution_count": 178,
   "id": "f5972b6e",
   "metadata": {},
   "outputs": [],
   "source": [
    "df['label'] = rating"
   ]
  },
  {
   "cell_type": "code",
   "execution_count": 179,
   "id": "6eb907b6",
   "metadata": {},
   "outputs": [],
   "source": [
    "df = df[df['label'] != 'none']"
   ]
  },
  {
   "cell_type": "code",
   "execution_count": 182,
   "id": "c5c7821a",
   "metadata": {},
   "outputs": [
    {
     "data": {
      "text/html": [
       "<div>\n",
       "<style scoped>\n",
       "    .dataframe tbody tr th:only-of-type {\n",
       "        vertical-align: middle;\n",
       "    }\n",
       "\n",
       "    .dataframe tbody tr th {\n",
       "        vertical-align: top;\n",
       "    }\n",
       "\n",
       "    .dataframe thead th {\n",
       "        text-align: right;\n",
       "    }\n",
       "</style>\n",
       "<table border=\"1\" class=\"dataframe\">\n",
       "  <thead>\n",
       "    <tr style=\"text-align: right;\">\n",
       "      <th></th>\n",
       "      <th>Unnamed: 0</th>\n",
       "      <th>url</th>\n",
       "      <th>speaker</th>\n",
       "      <th>speaker_info</th>\n",
       "      <th>statement</th>\n",
       "      <th>rating</th>\n",
       "      <th>where_when</th>\n",
       "      <th>title</th>\n",
       "      <th>content</th>\n",
       "      <th>content_html</th>\n",
       "      <th>factchecker</th>\n",
       "      <th>factchecker_info</th>\n",
       "      <th>factcheck_date</th>\n",
       "      <th>label</th>\n",
       "      <th>party</th>\n",
       "    </tr>\n",
       "  </thead>\n",
       "  <tbody>\n",
       "    <tr>\n",
       "      <th>0</th>\n",
       "      <td>0</td>\n",
       "      <td>https://www.politifact.com/factchecks/2022/mar...</td>\n",
       "      <td>Viral image</td>\n",
       "      <td>https://www.politifact.com/personalities/viral...</td>\n",
       "      <td>CNN staged a fire in Edmonton, Canada, and cla...</td>\n",
       "      <td>https://static.politifact.com/politifact/rulin...</td>\n",
       "      <td>stated on March 28, 2022 in a Facebook post:</td>\n",
       "      <td>No, this Edmonton jacket isn’t proof CNN stage...</td>\n",
       "      <td>CNN anchor Don Lemon has been reporting from U...</td>\n",
       "      <td>&lt;article class=\"m-textblock\"&gt;\\n&lt;p&gt;CNN anchor D...</td>\n",
       "      <td>Ciara O'Rourke</td>\n",
       "      <td>https://www.politifact.com/staff/ciara-orourke/</td>\n",
       "      <td>March 28, 2022</td>\n",
       "      <td>false</td>\n",
       "      <td>Democrat</td>\n",
       "    </tr>\n",
       "    <tr>\n",
       "      <th>1</th>\n",
       "      <td>1</td>\n",
       "      <td>https://www.politifact.com/factchecks/2022/mar...</td>\n",
       "      <td>Facebook posts</td>\n",
       "      <td>https://www.politifact.com/personalities/faceb...</td>\n",
       "      <td>The United Nations sent out an email instructi...</td>\n",
       "      <td>https://static.politifact.com/politifact/rulin...</td>\n",
       "      <td>stated on March 17, 2022 in a Facebook post:</td>\n",
       "      <td>Claim that the UN told staff not to use ‘war,’...</td>\n",
       "      <td>The United Nations is being criticized by some...</td>\n",
       "      <td>&lt;article class=\"m-textblock\"&gt;\\n&lt;p&gt;The United N...</td>\n",
       "      <td>Samantha Putterman</td>\n",
       "      <td>https://www.politifact.com/staff/samantha-putt...</td>\n",
       "      <td>March 28, 2022</td>\n",
       "      <td>half true</td>\n",
       "      <td>Republican</td>\n",
       "    </tr>\n",
       "    <tr>\n",
       "      <th>2</th>\n",
       "      <td>2</td>\n",
       "      <td>https://www.politifact.com/factchecks/2022/mar...</td>\n",
       "      <td>YouTube videos</td>\n",
       "      <td>https://www.politifact.com/personalities/youtu...</td>\n",
       "      <td>A video shows Ukraine President Volodymyr Zele...</td>\n",
       "      <td>https://static.politifact.com/politifact/rulin...</td>\n",
       "      <td>stated on March 19, 2022 in a YouTube video's ...</td>\n",
       "      <td>Does video show Zelenskyy singing ‘Imagine’ by...</td>\n",
       "      <td>A viral YouTube video watched more than 1 mill...</td>\n",
       "      <td>&lt;article class=\"m-textblock\"&gt;\\n&lt;p&gt;A viral YouT...</td>\n",
       "      <td>Bill McCarthy</td>\n",
       "      <td>https://www.politifact.com/staff/bill-mccarthy/</td>\n",
       "      <td>March 28, 2022</td>\n",
       "      <td>false</td>\n",
       "      <td>Democrat</td>\n",
       "    </tr>\n",
       "    <tr>\n",
       "      <th>3</th>\n",
       "      <td>3</td>\n",
       "      <td>https://www.politifact.com/factchecks/2022/mar...</td>\n",
       "      <td>Eli Bremer</td>\n",
       "      <td>https://www.politifact.com/personalities/eli-b...</td>\n",
       "      <td>“If you look at windmills” and the greenhouse ...</td>\n",
       "      <td>https://static.politifact.com/politifact/rulin...</td>\n",
       "      <td>stated on March 23, 2022 in an interview with ...</td>\n",
       "      <td>A GOP Senate candidate’s muddled claim about w...</td>\n",
       "      <td>Eli Bremer is one of seven Colorado Republican...</td>\n",
       "      <td>&lt;article class=\"m-textblock\"&gt;\\n&lt;p&gt;Eli Bremer i...</td>\n",
       "      <td>Jon Greenberg</td>\n",
       "      <td>https://www.politifact.com/staff/jon-greenberg/</td>\n",
       "      <td>March 28, 2022</td>\n",
       "      <td>true</td>\n",
       "      <td>Democrat</td>\n",
       "    </tr>\n",
       "    <tr>\n",
       "      <th>4</th>\n",
       "      <td>4</td>\n",
       "      <td>https://www.politifact.com/factchecks/2022/mar...</td>\n",
       "      <td>Viral image</td>\n",
       "      <td>https://www.politifact.com/personalities/viral...</td>\n",
       "      <td>Republicans “nominated the 1st Black woman to ...</td>\n",
       "      <td>https://static.politifact.com/politifact/rulin...</td>\n",
       "      <td>stated on March 25, 2022 in a Facebook post:</td>\n",
       "      <td>No, Janice Rogers Brown wasn’t the first Black...</td>\n",
       "      <td>News reports have described Judge Ketanji Brow...</td>\n",
       "      <td>&lt;article class=\"m-textblock\"&gt;\\n&lt;p&gt;News reports...</td>\n",
       "      <td>Ciara O'Rourke</td>\n",
       "      <td>https://www.politifact.com/staff/ciara-orourke/</td>\n",
       "      <td>March 28, 2022</td>\n",
       "      <td>false</td>\n",
       "      <td>Democrat</td>\n",
       "    </tr>\n",
       "  </tbody>\n",
       "</table>\n",
       "</div>"
      ],
      "text/plain": [
       "   Unnamed: 0                                                url  \\\n",
       "0           0  https://www.politifact.com/factchecks/2022/mar...   \n",
       "1           1  https://www.politifact.com/factchecks/2022/mar...   \n",
       "2           2  https://www.politifact.com/factchecks/2022/mar...   \n",
       "3           3  https://www.politifact.com/factchecks/2022/mar...   \n",
       "4           4  https://www.politifact.com/factchecks/2022/mar...   \n",
       "\n",
       "          speaker                                       speaker_info  \\\n",
       "0     Viral image  https://www.politifact.com/personalities/viral...   \n",
       "1  Facebook posts  https://www.politifact.com/personalities/faceb...   \n",
       "2  YouTube videos  https://www.politifact.com/personalities/youtu...   \n",
       "3      Eli Bremer  https://www.politifact.com/personalities/eli-b...   \n",
       "4     Viral image  https://www.politifact.com/personalities/viral...   \n",
       "\n",
       "                                           statement  \\\n",
       "0  CNN staged a fire in Edmonton, Canada, and cla...   \n",
       "1  The United Nations sent out an email instructi...   \n",
       "2  A video shows Ukraine President Volodymyr Zele...   \n",
       "3  “If you look at windmills” and the greenhouse ...   \n",
       "4  Republicans “nominated the 1st Black woman to ...   \n",
       "\n",
       "                                              rating  \\\n",
       "0  https://static.politifact.com/politifact/rulin...   \n",
       "1  https://static.politifact.com/politifact/rulin...   \n",
       "2  https://static.politifact.com/politifact/rulin...   \n",
       "3  https://static.politifact.com/politifact/rulin...   \n",
       "4  https://static.politifact.com/politifact/rulin...   \n",
       "\n",
       "                                          where_when  \\\n",
       "0       stated on March 28, 2022 in a Facebook post:   \n",
       "1       stated on March 17, 2022 in a Facebook post:   \n",
       "2  stated on March 19, 2022 in a YouTube video's ...   \n",
       "3  stated on March 23, 2022 in an interview with ...   \n",
       "4       stated on March 25, 2022 in a Facebook post:   \n",
       "\n",
       "                                               title  \\\n",
       "0  No, this Edmonton jacket isn’t proof CNN stage...   \n",
       "1  Claim that the UN told staff not to use ‘war,’...   \n",
       "2  Does video show Zelenskyy singing ‘Imagine’ by...   \n",
       "3  A GOP Senate candidate’s muddled claim about w...   \n",
       "4  No, Janice Rogers Brown wasn’t the first Black...   \n",
       "\n",
       "                                             content  \\\n",
       "0  CNN anchor Don Lemon has been reporting from U...   \n",
       "1  The United Nations is being criticized by some...   \n",
       "2  A viral YouTube video watched more than 1 mill...   \n",
       "3  Eli Bremer is one of seven Colorado Republican...   \n",
       "4  News reports have described Judge Ketanji Brow...   \n",
       "\n",
       "                                        content_html         factchecker  \\\n",
       "0  <article class=\"m-textblock\">\\n<p>CNN anchor D...      Ciara O'Rourke   \n",
       "1  <article class=\"m-textblock\">\\n<p>The United N...  Samantha Putterman   \n",
       "2  <article class=\"m-textblock\">\\n<p>A viral YouT...       Bill McCarthy   \n",
       "3  <article class=\"m-textblock\">\\n<p>Eli Bremer i...       Jon Greenberg   \n",
       "4  <article class=\"m-textblock\">\\n<p>News reports...      Ciara O'Rourke   \n",
       "\n",
       "                                    factchecker_info  factcheck_date  \\\n",
       "0    https://www.politifact.com/staff/ciara-orourke/  March 28, 2022   \n",
       "1  https://www.politifact.com/staff/samantha-putt...  March 28, 2022   \n",
       "2    https://www.politifact.com/staff/bill-mccarthy/  March 28, 2022   \n",
       "3    https://www.politifact.com/staff/jon-greenberg/  March 28, 2022   \n",
       "4    https://www.politifact.com/staff/ciara-orourke/  March 28, 2022   \n",
       "\n",
       "       label       party  \n",
       "0      false    Democrat  \n",
       "1  half true  Republican  \n",
       "2      false    Democrat  \n",
       "3       true    Democrat  \n",
       "4      false    Democrat  "
      ]
     },
     "execution_count": 182,
     "metadata": {},
     "output_type": "execute_result"
    }
   ],
   "source": [
    "df.head()"
   ]
  },
  {
   "cell_type": "code",
   "execution_count": 174,
   "id": "553c34dc",
   "metadata": {},
   "outputs": [],
   "source": [
    "df_cleaned = pd.read_csv('politifact_cleaned.csv')"
   ]
  },
  {
   "cell_type": "code",
   "execution_count": 85,
   "id": "f22434e7",
   "metadata": {},
   "outputs": [],
   "source": [
    "df_left = df_cleaned[df_cleaned['party'] == 'Republican']"
   ]
  },
  {
   "cell_type": "code",
   "execution_count": 86,
   "id": "8d6114fe",
   "metadata": {},
   "outputs": [
    {
     "data": {
      "text/html": [
       "<div>\n",
       "<style scoped>\n",
       "    .dataframe tbody tr th:only-of-type {\n",
       "        vertical-align: middle;\n",
       "    }\n",
       "\n",
       "    .dataframe tbody tr th {\n",
       "        vertical-align: top;\n",
       "    }\n",
       "\n",
       "    .dataframe thead th {\n",
       "        text-align: right;\n",
       "    }\n",
       "</style>\n",
       "<table border=\"1\" class=\"dataframe\">\n",
       "  <thead>\n",
       "    <tr style=\"text-align: right;\">\n",
       "      <th></th>\n",
       "      <th>speaker</th>\n",
       "      <th>label</th>\n",
       "      <th>factchecker</th>\n",
       "      <th>party</th>\n",
       "    </tr>\n",
       "  </thead>\n",
       "  <tbody>\n",
       "    <tr>\n",
       "      <th>3</th>\n",
       "      <td>Eli Bremer</td>\n",
       "      <td>true</td>\n",
       "      <td>Jon Greenberg</td>\n",
       "      <td>Republican</td>\n",
       "    </tr>\n",
       "    <tr>\n",
       "      <th>6</th>\n",
       "      <td>Mick McGuire</td>\n",
       "      <td>false</td>\n",
       "      <td>Tom Kertscher</td>\n",
       "      <td>Republican</td>\n",
       "    </tr>\n",
       "    <tr>\n",
       "      <th>7</th>\n",
       "      <td>Jack Posobiec</td>\n",
       "      <td>false</td>\n",
       "      <td>Bill McCarthy</td>\n",
       "      <td>Republican</td>\n",
       "    </tr>\n",
       "    <tr>\n",
       "      <th>13</th>\n",
       "      <td>Rebecca Kleefisch</td>\n",
       "      <td>mostly false</td>\n",
       "      <td>Madeline Heim</td>\n",
       "      <td>Republican</td>\n",
       "    </tr>\n",
       "    <tr>\n",
       "      <th>15</th>\n",
       "      <td>John Cornyn</td>\n",
       "      <td>true</td>\n",
       "      <td>Madison Czopek</td>\n",
       "      <td>Republican</td>\n",
       "    </tr>\n",
       "    <tr>\n",
       "      <th>...</th>\n",
       "      <td>...</td>\n",
       "      <td>...</td>\n",
       "      <td>...</td>\n",
       "      <td>...</td>\n",
       "    </tr>\n",
       "    <tr>\n",
       "      <th>20807</th>\n",
       "      <td>Mike Huckabee</td>\n",
       "      <td>true</td>\n",
       "      <td>Robert Farley</td>\n",
       "      <td>Republican</td>\n",
       "    </tr>\n",
       "    <tr>\n",
       "      <th>20808</th>\n",
       "      <td>John McCain</td>\n",
       "      <td>false</td>\n",
       "      <td>Shawn Zeller</td>\n",
       "      <td>Republican</td>\n",
       "    </tr>\n",
       "    <tr>\n",
       "      <th>20812</th>\n",
       "      <td>Rudy Giuliani</td>\n",
       "      <td>true</td>\n",
       "      <td>Asjylyn Loder</td>\n",
       "      <td>Republican</td>\n",
       "    </tr>\n",
       "    <tr>\n",
       "      <th>20817</th>\n",
       "      <td>Spike the Romney Attack Dog</td>\n",
       "      <td>true</td>\n",
       "      <td>Amy Hollyfield</td>\n",
       "      <td>Republican</td>\n",
       "    </tr>\n",
       "    <tr>\n",
       "      <th>20821</th>\n",
       "      <td>Mitt Romney</td>\n",
       "      <td>true</td>\n",
       "      <td>Angie Drobnic Holan</td>\n",
       "      <td>Republican</td>\n",
       "    </tr>\n",
       "  </tbody>\n",
       "</table>\n",
       "<p>7895 rows × 4 columns</p>\n",
       "</div>"
      ],
      "text/plain": [
       "                           speaker         label          factchecker  \\\n",
       "3                       Eli Bremer          true        Jon Greenberg   \n",
       "6                     Mick McGuire         false        Tom Kertscher   \n",
       "7                    Jack Posobiec         false        Bill McCarthy   \n",
       "13               Rebecca Kleefisch  mostly false        Madeline Heim   \n",
       "15                     John Cornyn          true       Madison Czopek   \n",
       "...                            ...           ...                  ...   \n",
       "20807                Mike Huckabee          true        Robert Farley   \n",
       "20808                  John McCain         false         Shawn Zeller   \n",
       "20812                Rudy Giuliani          true        Asjylyn Loder   \n",
       "20817  Spike the Romney Attack Dog          true       Amy Hollyfield   \n",
       "20821                  Mitt Romney          true  Angie Drobnic Holan   \n",
       "\n",
       "            party  \n",
       "3      Republican  \n",
       "6      Republican  \n",
       "7      Republican  \n",
       "13     Republican  \n",
       "15     Republican  \n",
       "...           ...  \n",
       "20807  Republican  \n",
       "20808  Republican  \n",
       "20812  Republican  \n",
       "20817  Republican  \n",
       "20821  Republican  \n",
       "\n",
       "[7895 rows x 4 columns]"
      ]
     },
     "execution_count": 86,
     "metadata": {},
     "output_type": "execute_result"
    }
   ],
   "source": [
    "df_left"
   ]
  },
  {
   "cell_type": "code",
   "execution_count": 87,
   "id": "ccc09a56",
   "metadata": {},
   "outputs": [],
   "source": [
    "df_right = df_cleaned[df_cleaned['party'] == 'Democrat']"
   ]
  },
  {
   "cell_type": "code",
   "execution_count": 88,
   "id": "6357c846",
   "metadata": {},
   "outputs": [],
   "source": [
    "df_party = df_left.append(df_right).sample(frac = 1)"
   ]
  },
  {
   "cell_type": "code",
   "execution_count": 90,
   "id": "eff216c7",
   "metadata": {},
   "outputs": [],
   "source": [
    "df_party.to_csv('politifact_cleaned.csv')"
   ]
  },
  {
   "cell_type": "code",
   "execution_count": 2,
   "id": "56667d42",
   "metadata": {},
   "outputs": [],
   "source": [
    "df = pd.read_csv('politifact_cleaned.csv')"
   ]
  },
  {
   "cell_type": "code",
   "execution_count": 151,
   "id": "ae9be39f",
   "metadata": {},
   "outputs": [
    {
     "data": {
      "text/plain": [
       "20809"
      ]
     },
     "execution_count": 151,
     "metadata": {},
     "output_type": "execute_result"
    }
   ],
   "source": [
    "len(df)"
   ]
  },
  {
   "cell_type": "code",
   "execution_count": 183,
   "id": "e4481414",
   "metadata": {},
   "outputs": [
    {
     "data": {
      "text/plain": [
       "20809"
      ]
     },
     "execution_count": 183,
     "metadata": {},
     "output_type": "execute_result"
    }
   ],
   "source": [
    "revised_label = []\n",
    "true = ['true', 'mostly true']\n",
    "false = ['half true', 'mostly false', 'false', 'pants on fire']\n",
    "for row in df.iloc:\n",
    "    if row.label in true:\n",
    "        revised_label.append('true')\n",
    "    elif row.label in false:\n",
    "        revised_label.append('false')\n",
    "    else:\n",
    "        revised_label.append('none')\n",
    "len(revised_label)"
   ]
  },
  {
   "cell_type": "code",
   "execution_count": 153,
   "id": "e8405168",
   "metadata": {},
   "outputs": [
    {
     "data": {
      "text/plain": [
       "215"
      ]
     },
     "execution_count": 153,
     "metadata": {},
     "output_type": "execute_result"
    }
   ],
   "source": [
    "revised_label.count('none')"
   ]
  },
  {
   "cell_type": "code",
   "execution_count": 185,
   "id": "87028835",
   "metadata": {},
   "outputs": [],
   "source": [
    "df['label'] = revised_label"
   ]
  },
  {
   "cell_type": "code",
   "execution_count": 187,
   "id": "7c5dd35c",
   "metadata": {},
   "outputs": [],
   "source": [
    "df = df[df['label'] != 'none']"
   ]
  },
  {
   "cell_type": "code",
   "execution_count": 188,
   "id": "cdd089ff",
   "metadata": {},
   "outputs": [
    {
     "data": {
      "text/plain": [
       "false    11749\n",
       "true      8845\n",
       "Name: label, dtype: int64"
      ]
     },
     "execution_count": 188,
     "metadata": {},
     "output_type": "execute_result"
    }
   ],
   "source": [
    "df.label.value_counts()"
   ]
  },
  {
   "cell_type": "code",
   "execution_count": 118,
   "id": "5a8ec9e5",
   "metadata": {},
   "outputs": [],
   "source": [
    "df.to_csv('politifact_party.csv')"
   ]
  },
  {
   "cell_type": "code",
   "execution_count": 5,
   "id": "f0015be0",
   "metadata": {},
   "outputs": [],
   "source": [
    "df = pd.read_csv('politifact_party.csv')"
   ]
  },
  {
   "cell_type": "code",
   "execution_count": 8,
   "id": "e8c6c8bf",
   "metadata": {},
   "outputs": [
    {
     "data": {
      "text/plain": [
       "Louis Jacobson       1392\n",
       "W. Gardner Selby      713\n",
       "Amy Sherman           655\n",
       "Tom Kertscher         646\n",
       "Jon Greenberg         620\n",
       "                     ... \n",
       "Marta Cerava            1\n",
       "Minh Connors            1\n",
       "Noah Crider             1\n",
       "Charles Maldonado       1\n",
       "Shonda Novak            1\n",
       "Name: factchecker, Length: 483, dtype: int64"
      ]
     },
     "execution_count": 8,
     "metadata": {},
     "output_type": "execute_result"
    }
   ],
   "source": [
    "df.factchecker.value_counts()"
   ]
  },
  {
   "cell_type": "code",
   "execution_count": 9,
   "id": "b9055fb1",
   "metadata": {},
   "outputs": [
    {
     "data": {
      "text/html": [
       "<div>\n",
       "<style scoped>\n",
       "    .dataframe tbody tr th:only-of-type {\n",
       "        vertical-align: middle;\n",
       "    }\n",
       "\n",
       "    .dataframe tbody tr th {\n",
       "        vertical-align: top;\n",
       "    }\n",
       "\n",
       "    .dataframe thead th {\n",
       "        text-align: right;\n",
       "    }\n",
       "</style>\n",
       "<table border=\"1\" class=\"dataframe\">\n",
       "  <thead>\n",
       "    <tr style=\"text-align: right;\">\n",
       "      <th></th>\n",
       "      <th>Unnamed: 0</th>\n",
       "      <th>Unnamed: 0.1</th>\n",
       "      <th>speaker</th>\n",
       "      <th>label</th>\n",
       "      <th>factchecker</th>\n",
       "      <th>party</th>\n",
       "    </tr>\n",
       "  </thead>\n",
       "  <tbody>\n",
       "    <tr>\n",
       "      <th>0</th>\n",
       "      <td>0</td>\n",
       "      <td>16634</td>\n",
       "      <td>Jefferson Smith</td>\n",
       "      <td>True</td>\n",
       "      <td>Ian K. Kullgren</td>\n",
       "      <td>Democrat</td>\n",
       "    </tr>\n",
       "    <tr>\n",
       "      <th>1</th>\n",
       "      <td>1</td>\n",
       "      <td>2043</td>\n",
       "      <td>Jake Corman</td>\n",
       "      <td>True</td>\n",
       "      <td>Jessica Calefati</td>\n",
       "      <td>Republican</td>\n",
       "    </tr>\n",
       "    <tr>\n",
       "      <th>2</th>\n",
       "      <td>2</td>\n",
       "      <td>8944</td>\n",
       "      <td>Tim Canova</td>\n",
       "      <td>True</td>\n",
       "      <td>Amy Sherman</td>\n",
       "      <td>Democrat</td>\n",
       "    </tr>\n",
       "    <tr>\n",
       "      <th>3</th>\n",
       "      <td>3</td>\n",
       "      <td>1185</td>\n",
       "      <td>Joe Biden</td>\n",
       "      <td>True</td>\n",
       "      <td>Louis Jacobson</td>\n",
       "      <td>Democrat</td>\n",
       "    </tr>\n",
       "    <tr>\n",
       "      <th>4</th>\n",
       "      <td>4</td>\n",
       "      <td>15553</td>\n",
       "      <td>Ron Davis</td>\n",
       "      <td>True</td>\n",
       "      <td>Meghan Ashford-Grooms</td>\n",
       "      <td>Democrat</td>\n",
       "    </tr>\n",
       "  </tbody>\n",
       "</table>\n",
       "</div>"
      ],
      "text/plain": [
       "   Unnamed: 0  Unnamed: 0.1          speaker  label            factchecker  \\\n",
       "0           0         16634  Jefferson Smith   True        Ian K. Kullgren   \n",
       "1           1          2043      Jake Corman   True       Jessica Calefati   \n",
       "2           2          8944       Tim Canova   True            Amy Sherman   \n",
       "3           3          1185        Joe Biden   True         Louis Jacobson   \n",
       "4           4         15553        Ron Davis   True  Meghan Ashford-Grooms   \n",
       "\n",
       "        party  \n",
       "0    Democrat  \n",
       "1  Republican  \n",
       "2    Democrat  \n",
       "3    Democrat  \n",
       "4    Democrat  "
      ]
     },
     "execution_count": 9,
     "metadata": {},
     "output_type": "execute_result"
    }
   ],
   "source": [
    "df.head()"
   ]
  },
  {
   "cell_type": "code",
   "execution_count": 201,
   "id": "3953768e",
   "metadata": {},
   "outputs": [],
   "source": [
    "df['democrat'] = 0\n",
    "df['republican'] = 0"
   ]
  },
  {
   "cell_type": "code",
   "execution_count": 202,
   "id": "099aad34",
   "metadata": {},
   "outputs": [],
   "source": [
    "df.loc[df.party == 'Democrat', 'democrat'] = 1\n",
    "df.loc[df.party == 'Republican', 'republican'] = 1"
   ]
  },
  {
   "cell_type": "code",
   "execution_count": 204,
   "id": "40628b70",
   "metadata": {},
   "outputs": [
    {
     "data": {
      "text/html": [
       "<div>\n",
       "<style scoped>\n",
       "    .dataframe tbody tr th:only-of-type {\n",
       "        vertical-align: middle;\n",
       "    }\n",
       "\n",
       "    .dataframe tbody tr th {\n",
       "        vertical-align: top;\n",
       "    }\n",
       "\n",
       "    .dataframe thead th {\n",
       "        text-align: right;\n",
       "    }\n",
       "</style>\n",
       "<table border=\"1\" class=\"dataframe\">\n",
       "  <thead>\n",
       "    <tr style=\"text-align: right;\">\n",
       "      <th></th>\n",
       "      <th>Unnamed: 0</th>\n",
       "      <th>url</th>\n",
       "      <th>speaker</th>\n",
       "      <th>speaker_info</th>\n",
       "      <th>statement</th>\n",
       "      <th>rating</th>\n",
       "      <th>where_when</th>\n",
       "      <th>title</th>\n",
       "      <th>content</th>\n",
       "      <th>content_html</th>\n",
       "      <th>factchecker</th>\n",
       "      <th>factchecker_info</th>\n",
       "      <th>factcheck_date</th>\n",
       "      <th>label</th>\n",
       "      <th>party</th>\n",
       "      <th>democrat_false</th>\n",
       "      <th>republican_false</th>\n",
       "      <th>democrat</th>\n",
       "      <th>republican</th>\n",
       "    </tr>\n",
       "  </thead>\n",
       "  <tbody>\n",
       "    <tr>\n",
       "      <th>0</th>\n",
       "      <td>0</td>\n",
       "      <td>https://www.politifact.com/factchecks/2022/mar...</td>\n",
       "      <td>Viral image</td>\n",
       "      <td>https://www.politifact.com/personalities/viral...</td>\n",
       "      <td>CNN staged a fire in Edmonton, Canada, and cla...</td>\n",
       "      <td>https://static.politifact.com/politifact/rulin...</td>\n",
       "      <td>stated on March 28, 2022 in a Facebook post:</td>\n",
       "      <td>No, this Edmonton jacket isn’t proof CNN stage...</td>\n",
       "      <td>CNN anchor Don Lemon has been reporting from U...</td>\n",
       "      <td>&lt;article class=\"m-textblock\"&gt;\\n&lt;p&gt;CNN anchor D...</td>\n",
       "      <td>Ciara O'Rourke</td>\n",
       "      <td>https://www.politifact.com/staff/ciara-orourke/</td>\n",
       "      <td>March 28, 2022</td>\n",
       "      <td>false</td>\n",
       "      <td>Democrat</td>\n",
       "      <td>0</td>\n",
       "      <td>0</td>\n",
       "      <td>1</td>\n",
       "      <td>0</td>\n",
       "    </tr>\n",
       "    <tr>\n",
       "      <th>1</th>\n",
       "      <td>1</td>\n",
       "      <td>https://www.politifact.com/factchecks/2022/mar...</td>\n",
       "      <td>Facebook posts</td>\n",
       "      <td>https://www.politifact.com/personalities/faceb...</td>\n",
       "      <td>The United Nations sent out an email instructi...</td>\n",
       "      <td>https://static.politifact.com/politifact/rulin...</td>\n",
       "      <td>stated on March 17, 2022 in a Facebook post:</td>\n",
       "      <td>Claim that the UN told staff not to use ‘war,’...</td>\n",
       "      <td>The United Nations is being criticized by some...</td>\n",
       "      <td>&lt;article class=\"m-textblock\"&gt;\\n&lt;p&gt;The United N...</td>\n",
       "      <td>Samantha Putterman</td>\n",
       "      <td>https://www.politifact.com/staff/samantha-putt...</td>\n",
       "      <td>March 28, 2022</td>\n",
       "      <td>false</td>\n",
       "      <td>Republican</td>\n",
       "      <td>0</td>\n",
       "      <td>0</td>\n",
       "      <td>0</td>\n",
       "      <td>1</td>\n",
       "    </tr>\n",
       "    <tr>\n",
       "      <th>2</th>\n",
       "      <td>2</td>\n",
       "      <td>https://www.politifact.com/factchecks/2022/mar...</td>\n",
       "      <td>YouTube videos</td>\n",
       "      <td>https://www.politifact.com/personalities/youtu...</td>\n",
       "      <td>A video shows Ukraine President Volodymyr Zele...</td>\n",
       "      <td>https://static.politifact.com/politifact/rulin...</td>\n",
       "      <td>stated on March 19, 2022 in a YouTube video's ...</td>\n",
       "      <td>Does video show Zelenskyy singing ‘Imagine’ by...</td>\n",
       "      <td>A viral YouTube video watched more than 1 mill...</td>\n",
       "      <td>&lt;article class=\"m-textblock\"&gt;\\n&lt;p&gt;A viral YouT...</td>\n",
       "      <td>Bill McCarthy</td>\n",
       "      <td>https://www.politifact.com/staff/bill-mccarthy/</td>\n",
       "      <td>March 28, 2022</td>\n",
       "      <td>false</td>\n",
       "      <td>Democrat</td>\n",
       "      <td>0</td>\n",
       "      <td>0</td>\n",
       "      <td>1</td>\n",
       "      <td>0</td>\n",
       "    </tr>\n",
       "    <tr>\n",
       "      <th>3</th>\n",
       "      <td>3</td>\n",
       "      <td>https://www.politifact.com/factchecks/2022/mar...</td>\n",
       "      <td>Eli Bremer</td>\n",
       "      <td>https://www.politifact.com/personalities/eli-b...</td>\n",
       "      <td>“If you look at windmills” and the greenhouse ...</td>\n",
       "      <td>https://static.politifact.com/politifact/rulin...</td>\n",
       "      <td>stated on March 23, 2022 in an interview with ...</td>\n",
       "      <td>A GOP Senate candidate’s muddled claim about w...</td>\n",
       "      <td>Eli Bremer is one of seven Colorado Republican...</td>\n",
       "      <td>&lt;article class=\"m-textblock\"&gt;\\n&lt;p&gt;Eli Bremer i...</td>\n",
       "      <td>Jon Greenberg</td>\n",
       "      <td>https://www.politifact.com/staff/jon-greenberg/</td>\n",
       "      <td>March 28, 2022</td>\n",
       "      <td>true</td>\n",
       "      <td>Democrat</td>\n",
       "      <td>0</td>\n",
       "      <td>0</td>\n",
       "      <td>1</td>\n",
       "      <td>0</td>\n",
       "    </tr>\n",
       "    <tr>\n",
       "      <th>4</th>\n",
       "      <td>4</td>\n",
       "      <td>https://www.politifact.com/factchecks/2022/mar...</td>\n",
       "      <td>Viral image</td>\n",
       "      <td>https://www.politifact.com/personalities/viral...</td>\n",
       "      <td>Republicans “nominated the 1st Black woman to ...</td>\n",
       "      <td>https://static.politifact.com/politifact/rulin...</td>\n",
       "      <td>stated on March 25, 2022 in a Facebook post:</td>\n",
       "      <td>No, Janice Rogers Brown wasn’t the first Black...</td>\n",
       "      <td>News reports have described Judge Ketanji Brow...</td>\n",
       "      <td>&lt;article class=\"m-textblock\"&gt;\\n&lt;p&gt;News reports...</td>\n",
       "      <td>Ciara O'Rourke</td>\n",
       "      <td>https://www.politifact.com/staff/ciara-orourke/</td>\n",
       "      <td>March 28, 2022</td>\n",
       "      <td>false</td>\n",
       "      <td>Democrat</td>\n",
       "      <td>0</td>\n",
       "      <td>0</td>\n",
       "      <td>1</td>\n",
       "      <td>0</td>\n",
       "    </tr>\n",
       "  </tbody>\n",
       "</table>\n",
       "</div>"
      ],
      "text/plain": [
       "   Unnamed: 0                                                url  \\\n",
       "0           0  https://www.politifact.com/factchecks/2022/mar...   \n",
       "1           1  https://www.politifact.com/factchecks/2022/mar...   \n",
       "2           2  https://www.politifact.com/factchecks/2022/mar...   \n",
       "3           3  https://www.politifact.com/factchecks/2022/mar...   \n",
       "4           4  https://www.politifact.com/factchecks/2022/mar...   \n",
       "\n",
       "          speaker                                       speaker_info  \\\n",
       "0     Viral image  https://www.politifact.com/personalities/viral...   \n",
       "1  Facebook posts  https://www.politifact.com/personalities/faceb...   \n",
       "2  YouTube videos  https://www.politifact.com/personalities/youtu...   \n",
       "3      Eli Bremer  https://www.politifact.com/personalities/eli-b...   \n",
       "4     Viral image  https://www.politifact.com/personalities/viral...   \n",
       "\n",
       "                                           statement  \\\n",
       "0  CNN staged a fire in Edmonton, Canada, and cla...   \n",
       "1  The United Nations sent out an email instructi...   \n",
       "2  A video shows Ukraine President Volodymyr Zele...   \n",
       "3  “If you look at windmills” and the greenhouse ...   \n",
       "4  Republicans “nominated the 1st Black woman to ...   \n",
       "\n",
       "                                              rating  \\\n",
       "0  https://static.politifact.com/politifact/rulin...   \n",
       "1  https://static.politifact.com/politifact/rulin...   \n",
       "2  https://static.politifact.com/politifact/rulin...   \n",
       "3  https://static.politifact.com/politifact/rulin...   \n",
       "4  https://static.politifact.com/politifact/rulin...   \n",
       "\n",
       "                                          where_when  \\\n",
       "0       stated on March 28, 2022 in a Facebook post:   \n",
       "1       stated on March 17, 2022 in a Facebook post:   \n",
       "2  stated on March 19, 2022 in a YouTube video's ...   \n",
       "3  stated on March 23, 2022 in an interview with ...   \n",
       "4       stated on March 25, 2022 in a Facebook post:   \n",
       "\n",
       "                                               title  \\\n",
       "0  No, this Edmonton jacket isn’t proof CNN stage...   \n",
       "1  Claim that the UN told staff not to use ‘war,’...   \n",
       "2  Does video show Zelenskyy singing ‘Imagine’ by...   \n",
       "3  A GOP Senate candidate’s muddled claim about w...   \n",
       "4  No, Janice Rogers Brown wasn’t the first Black...   \n",
       "\n",
       "                                             content  \\\n",
       "0  CNN anchor Don Lemon has been reporting from U...   \n",
       "1  The United Nations is being criticized by some...   \n",
       "2  A viral YouTube video watched more than 1 mill...   \n",
       "3  Eli Bremer is one of seven Colorado Republican...   \n",
       "4  News reports have described Judge Ketanji Brow...   \n",
       "\n",
       "                                        content_html         factchecker  \\\n",
       "0  <article class=\"m-textblock\">\\n<p>CNN anchor D...      Ciara O'Rourke   \n",
       "1  <article class=\"m-textblock\">\\n<p>The United N...  Samantha Putterman   \n",
       "2  <article class=\"m-textblock\">\\n<p>A viral YouT...       Bill McCarthy   \n",
       "3  <article class=\"m-textblock\">\\n<p>Eli Bremer i...       Jon Greenberg   \n",
       "4  <article class=\"m-textblock\">\\n<p>News reports...      Ciara O'Rourke   \n",
       "\n",
       "                                    factchecker_info  factcheck_date  label  \\\n",
       "0    https://www.politifact.com/staff/ciara-orourke/  March 28, 2022  false   \n",
       "1  https://www.politifact.com/staff/samantha-putt...  March 28, 2022  false   \n",
       "2    https://www.politifact.com/staff/bill-mccarthy/  March 28, 2022  false   \n",
       "3    https://www.politifact.com/staff/jon-greenberg/  March 28, 2022   true   \n",
       "4    https://www.politifact.com/staff/ciara-orourke/  March 28, 2022  false   \n",
       "\n",
       "        party  democrat_false  republican_false  democrat  republican  \n",
       "0    Democrat               0                 0         1           0  \n",
       "1  Republican               0                 0         0           1  \n",
       "2    Democrat               0                 0         1           0  \n",
       "3    Democrat               0                 0         1           0  \n",
       "4    Democrat               0                 0         1           0  "
      ]
     },
     "execution_count": 204,
     "metadata": {},
     "output_type": "execute_result"
    }
   ],
   "source": [
    "df.head()"
   ]
  },
  {
   "cell_type": "code",
   "execution_count": 192,
   "id": "9c4c4cc2",
   "metadata": {},
   "outputs": [],
   "source": [
    "df['democrat_false'] = 0\n",
    "df['republican_false'] = 0"
   ]
  },
  {
   "cell_type": "code",
   "execution_count": 211,
   "id": "42d2dbf1",
   "metadata": {},
   "outputs": [],
   "source": [
    "df.loc[(df.democrat == 1) &(df.label == 'false'), 'democrat_false'] = 1\n",
    "df.loc[(df.republican == 1) &(df.label == 'false'), 'republican_false'] = 1"
   ]
  },
  {
   "cell_type": "code",
   "execution_count": 212,
   "id": "7fb61033",
   "metadata": {},
   "outputs": [],
   "source": [
    "r = df[['factchecker', 'democrat_false', 'republican_false']]"
   ]
  },
  {
   "cell_type": "code",
   "execution_count": 213,
   "id": "3bba65bf",
   "metadata": {},
   "outputs": [
    {
     "name": "stderr",
     "output_type": "stream",
     "text": [
      "/var/folders/vm/qk440crs5rx8zjsw41_ktc300000gn/T/ipykernel_2671/2526608997.py:1: SettingWithCopyWarning: \n",
      "A value is trying to be set on a copy of a slice from a DataFrame.\n",
      "Try using .loc[row_indexer,col_indexer] = value instead\n",
      "\n",
      "See the caveats in the documentation: https://pandas.pydata.org/pandas-docs/stable/user_guide/indexing.html#returning-a-view-versus-a-copy\n",
      "  r['sum'] = r['democrat_false'] + r['republican_false']\n"
     ]
    }
   ],
   "source": [
    "r['sum'] = r['democrat_false'] + r['republican_false']"
   ]
  },
  {
   "cell_type": "code",
   "execution_count": 214,
   "id": "40ffad6f",
   "metadata": {},
   "outputs": [
    {
     "data": {
      "text/html": [
       "<div>\n",
       "<style scoped>\n",
       "    .dataframe tbody tr th:only-of-type {\n",
       "        vertical-align: middle;\n",
       "    }\n",
       "\n",
       "    .dataframe tbody tr th {\n",
       "        vertical-align: top;\n",
       "    }\n",
       "\n",
       "    .dataframe thead th {\n",
       "        text-align: right;\n",
       "    }\n",
       "</style>\n",
       "<table border=\"1\" class=\"dataframe\">\n",
       "  <thead>\n",
       "    <tr style=\"text-align: right;\">\n",
       "      <th></th>\n",
       "      <th>factchecker</th>\n",
       "      <th>democrat_false</th>\n",
       "      <th>republican_false</th>\n",
       "      <th>sum</th>\n",
       "    </tr>\n",
       "  </thead>\n",
       "  <tbody>\n",
       "    <tr>\n",
       "      <th>0</th>\n",
       "      <td>Ciara O'Rourke</td>\n",
       "      <td>1</td>\n",
       "      <td>0</td>\n",
       "      <td>1</td>\n",
       "    </tr>\n",
       "    <tr>\n",
       "      <th>1</th>\n",
       "      <td>Samantha Putterman</td>\n",
       "      <td>0</td>\n",
       "      <td>1</td>\n",
       "      <td>1</td>\n",
       "    </tr>\n",
       "    <tr>\n",
       "      <th>2</th>\n",
       "      <td>Bill McCarthy</td>\n",
       "      <td>1</td>\n",
       "      <td>0</td>\n",
       "      <td>1</td>\n",
       "    </tr>\n",
       "    <tr>\n",
       "      <th>3</th>\n",
       "      <td>Jon Greenberg</td>\n",
       "      <td>0</td>\n",
       "      <td>0</td>\n",
       "      <td>0</td>\n",
       "    </tr>\n",
       "    <tr>\n",
       "      <th>4</th>\n",
       "      <td>Ciara O'Rourke</td>\n",
       "      <td>1</td>\n",
       "      <td>0</td>\n",
       "      <td>1</td>\n",
       "    </tr>\n",
       "    <tr>\n",
       "      <th>...</th>\n",
       "      <td>...</td>\n",
       "      <td>...</td>\n",
       "      <td>...</td>\n",
       "      <td>...</td>\n",
       "    </tr>\n",
       "    <tr>\n",
       "      <th>20819</th>\n",
       "      <td>Adriel Bettelheim</td>\n",
       "      <td>0</td>\n",
       "      <td>0</td>\n",
       "      <td>0</td>\n",
       "    </tr>\n",
       "    <tr>\n",
       "      <th>20820</th>\n",
       "      <td>Angie Drobnic Holan</td>\n",
       "      <td>0</td>\n",
       "      <td>0</td>\n",
       "      <td>0</td>\n",
       "    </tr>\n",
       "    <tr>\n",
       "      <th>20821</th>\n",
       "      <td>Angie Drobnic Holan</td>\n",
       "      <td>0</td>\n",
       "      <td>0</td>\n",
       "      <td>0</td>\n",
       "    </tr>\n",
       "    <tr>\n",
       "      <th>20822</th>\n",
       "      <td>Asjylyn Loder</td>\n",
       "      <td>0</td>\n",
       "      <td>0</td>\n",
       "      <td>0</td>\n",
       "    </tr>\n",
       "    <tr>\n",
       "      <th>20823</th>\n",
       "      <td>Adriel Bettelheim</td>\n",
       "      <td>0</td>\n",
       "      <td>0</td>\n",
       "      <td>0</td>\n",
       "    </tr>\n",
       "  </tbody>\n",
       "</table>\n",
       "<p>20594 rows × 4 columns</p>\n",
       "</div>"
      ],
      "text/plain": [
       "               factchecker  democrat_false  republican_false  sum\n",
       "0           Ciara O'Rourke               1                 0    1\n",
       "1       Samantha Putterman               0                 1    1\n",
       "2            Bill McCarthy               1                 0    1\n",
       "3            Jon Greenberg               0                 0    0\n",
       "4           Ciara O'Rourke               1                 0    1\n",
       "...                    ...             ...               ...  ...\n",
       "20819    Adriel Bettelheim               0                 0    0\n",
       "20820  Angie Drobnic Holan               0                 0    0\n",
       "20821  Angie Drobnic Holan               0                 0    0\n",
       "20822        Asjylyn Loder               0                 0    0\n",
       "20823    Adriel Bettelheim               0                 0    0\n",
       "\n",
       "[20594 rows x 4 columns]"
      ]
     },
     "execution_count": 214,
     "metadata": {},
     "output_type": "execute_result"
    }
   ],
   "source": [
    "r"
   ]
  },
  {
   "cell_type": "code",
   "execution_count": 215,
   "id": "1c06f9bd",
   "metadata": {},
   "outputs": [],
   "source": [
    "r = r.groupby('factchecker').mean()"
   ]
  },
  {
   "cell_type": "code",
   "execution_count": 216,
   "id": "f3ed93e2",
   "metadata": {},
   "outputs": [],
   "source": [
    "r = r.loc[r['sum'] > 0]"
   ]
  },
  {
   "cell_type": "code",
   "execution_count": 245,
   "id": "f4a4ca95",
   "metadata": {},
   "outputs": [
    {
     "data": {
      "text/plain": [
       "-0.5425270921892403"
      ]
     },
     "execution_count": 245,
     "metadata": {},
     "output_type": "execute_result"
    }
   ],
   "source": [
    "r['democrat_false'].corr(r['republican_false'])"
   ]
  },
  {
   "cell_type": "code",
   "execution_count": 243,
   "id": "5281fc54",
   "metadata": {},
   "outputs": [
    {
     "data": {
      "text/plain": [
       "Text(0, 0.5, 'proportion of republican statement rated as false')"
      ]
     },
     "execution_count": 243,
     "metadata": {},
     "output_type": "execute_result"
    },
    {
     "data": {
      "image/png": "[encoded data removed]",
      "text/plain": [
       "<Figure size 432x288 with 1 Axes>"
      ]
     },
     "metadata": {
      "needs_background": "light"
     },
     "output_type": "display_data"
    }
   ],
   "source": [
    "import matplotlib.pyplot as plt\n",
    "plt.scatter(r['democrat_false'], r['republican_false'])\n",
    "plt.xlabel('proportion of democrat statement rated as false')\n",
    "plt.ylabel('proportion of republican statement rated as false')"
   ]
  },
  {
   "cell_type": "code",
   "execution_count": 46,
   "id": "8ffa71ec",
   "metadata": {},
   "outputs": [],
   "source": [
    "from transformers import pipeline"
   ]
  },
  {
   "cell_type": "code",
   "execution_count": 52,
   "id": "b933640e",
   "metadata": {},
   "outputs": [
    {
     "name": "stderr",
     "output_type": "stream",
     "text": [
      "No model was supplied, defaulted to distilbert-base-uncased-finetuned-sst-2-english (https://huggingface.co/distilbert-base-uncased-finetuned-sst-2-english)\n"
     ]
    },
    {
     "data": {
      "application/vnd.jupyter.widget-view+json": {
       "model_id": "426d22acf0f44e0b9186cce59e0159a5",
       "version_major": 2,
       "version_minor": 0
      },
      "text/plain": [
       "Downloading:   0%|          | 0.00/629 [00:00<?, ?B/s]"
      ]
     },
     "metadata": {},
     "output_type": "display_data"
    },
    {
     "data": {
      "application/vnd.jupyter.widget-view+json": {
       "model_id": "9aff34f5cf6345b1a18efa68e7888651",
       "version_major": 2,
       "version_minor": 0
      },
      "text/plain": [
       "Downloading:   0%|          | 0.00/255M [00:00<?, ?B/s]"
      ]
     },
     "metadata": {},
     "output_type": "display_data"
    },
    {
     "data": {
      "application/vnd.jupyter.widget-view+json": {
       "model_id": "8bb9ab5c00db470dbc975a0e794a61a3",
       "version_major": 2,
       "version_minor": 0
      },
      "text/plain": [
       "Downloading:   0%|          | 0.00/48.0 [00:00<?, ?B/s]"
      ]
     },
     "metadata": {},
     "output_type": "display_data"
    },
    {
     "data": {
      "application/vnd.jupyter.widget-view+json": {
       "model_id": "c97f68c2e81f48c3a03ec0552bfad35e",
       "version_major": 2,
       "version_minor": 0
      },
      "text/plain": [
       "Downloading:   0%|          | 0.00/226k [00:00<?, ?B/s]"
      ]
     },
     "metadata": {},
     "output_type": "display_data"
    }
   ],
   "source": [
    "clf = pipeline('sentiment-analysis')"
   ]
  },
  {
   "cell_type": "code",
   "execution_count": 82,
   "id": "cb5856d0",
   "metadata": {},
   "outputs": [
    {
     "data": {
      "text/plain": [
       "[{'label': 'POSITIVE', 'score': 0.999830961227417}]"
      ]
     },
     "execution_count": 82,
     "metadata": {},
     "output_type": "execute_result"
    }
   ],
   "source": [
    "clf('you good')"
   ]
  },
  {
   "cell_type": "code",
   "execution_count": 135,
   "id": "f73c548f",
   "metadata": {},
   "outputs": [],
   "source": [
    "df = pd.read_csv('politifact.csv')"
   ]
  },
  {
   "cell_type": "code",
   "execution_count": 136,
   "id": "777d18b0",
   "metadata": {},
   "outputs": [
    {
     "data": {
      "text/html": [
       "<div>\n",
       "<style scoped>\n",
       "    .dataframe tbody tr th:only-of-type {\n",
       "        vertical-align: middle;\n",
       "    }\n",
       "\n",
       "    .dataframe tbody tr th {\n",
       "        vertical-align: top;\n",
       "    }\n",
       "\n",
       "    .dataframe thead th {\n",
       "        text-align: right;\n",
       "    }\n",
       "</style>\n",
       "<table border=\"1\" class=\"dataframe\">\n",
       "  <thead>\n",
       "    <tr style=\"text-align: right;\">\n",
       "      <th></th>\n",
       "      <th>Unnamed: 0</th>\n",
       "      <th>url</th>\n",
       "      <th>speaker</th>\n",
       "      <th>speaker_info</th>\n",
       "      <th>statement</th>\n",
       "      <th>rating</th>\n",
       "      <th>where_when</th>\n",
       "      <th>title</th>\n",
       "      <th>content</th>\n",
       "      <th>content_html</th>\n",
       "      <th>factchecker</th>\n",
       "      <th>factchecker_info</th>\n",
       "      <th>factcheck_date</th>\n",
       "    </tr>\n",
       "  </thead>\n",
       "  <tbody>\n",
       "    <tr>\n",
       "      <th>0</th>\n",
       "      <td>0</td>\n",
       "      <td>https://www.politifact.com/factchecks/2022/mar...</td>\n",
       "      <td>Viral image</td>\n",
       "      <td>https://www.politifact.com/personalities/viral...</td>\n",
       "      <td>CNN staged a fire in Edmonton, Canada, and cla...</td>\n",
       "      <td>https://static.politifact.com/politifact/rulin...</td>\n",
       "      <td>stated on March 28, 2022 in a Facebook post:</td>\n",
       "      <td>No, this Edmonton jacket isn’t proof CNN stage...</td>\n",
       "      <td>CNN anchor Don Lemon has been reporting from U...</td>\n",
       "      <td>&lt;article class=\"m-textblock\"&gt;\\n&lt;p&gt;CNN anchor D...</td>\n",
       "      <td>Ciara O'Rourke</td>\n",
       "      <td>https://www.politifact.com/staff/ciara-orourke/</td>\n",
       "      <td>March 28, 2022</td>\n",
       "    </tr>\n",
       "    <tr>\n",
       "      <th>1</th>\n",
       "      <td>1</td>\n",
       "      <td>https://www.politifact.com/factchecks/2022/mar...</td>\n",
       "      <td>Facebook posts</td>\n",
       "      <td>https://www.politifact.com/personalities/faceb...</td>\n",
       "      <td>The United Nations sent out an email instructi...</td>\n",
       "      <td>https://static.politifact.com/politifact/rulin...</td>\n",
       "      <td>stated on March 17, 2022 in a Facebook post:</td>\n",
       "      <td>Claim that the UN told staff not to use ‘war,’...</td>\n",
       "      <td>The United Nations is being criticized by some...</td>\n",
       "      <td>&lt;article class=\"m-textblock\"&gt;\\n&lt;p&gt;The United N...</td>\n",
       "      <td>Samantha Putterman</td>\n",
       "      <td>https://www.politifact.com/staff/samantha-putt...</td>\n",
       "      <td>March 28, 2022</td>\n",
       "    </tr>\n",
       "    <tr>\n",
       "      <th>2</th>\n",
       "      <td>2</td>\n",
       "      <td>https://www.politifact.com/factchecks/2022/mar...</td>\n",
       "      <td>YouTube videos</td>\n",
       "      <td>https://www.politifact.com/personalities/youtu...</td>\n",
       "      <td>A video shows Ukraine President Volodymyr Zele...</td>\n",
       "      <td>https://static.politifact.com/politifact/rulin...</td>\n",
       "      <td>stated on March 19, 2022 in a YouTube video's ...</td>\n",
       "      <td>Does video show Zelenskyy singing ‘Imagine’ by...</td>\n",
       "      <td>A viral YouTube video watched more than 1 mill...</td>\n",
       "      <td>&lt;article class=\"m-textblock\"&gt;\\n&lt;p&gt;A viral YouT...</td>\n",
       "      <td>Bill McCarthy</td>\n",
       "      <td>https://www.politifact.com/staff/bill-mccarthy/</td>\n",
       "      <td>March 28, 2022</td>\n",
       "    </tr>\n",
       "    <tr>\n",
       "      <th>3</th>\n",
       "      <td>3</td>\n",
       "      <td>https://www.politifact.com/factchecks/2022/mar...</td>\n",
       "      <td>Eli Bremer</td>\n",
       "      <td>https://www.politifact.com/personalities/eli-b...</td>\n",
       "      <td>“If you look at windmills” and the greenhouse ...</td>\n",
       "      <td>https://static.politifact.com/politifact/rulin...</td>\n",
       "      <td>stated on March 23, 2022 in an interview with ...</td>\n",
       "      <td>A GOP Senate candidate’s muddled claim about w...</td>\n",
       "      <td>Eli Bremer is one of seven Colorado Republican...</td>\n",
       "      <td>&lt;article class=\"m-textblock\"&gt;\\n&lt;p&gt;Eli Bremer i...</td>\n",
       "      <td>Jon Greenberg</td>\n",
       "      <td>https://www.politifact.com/staff/jon-greenberg/</td>\n",
       "      <td>March 28, 2022</td>\n",
       "    </tr>\n",
       "    <tr>\n",
       "      <th>4</th>\n",
       "      <td>4</td>\n",
       "      <td>https://www.politifact.com/factchecks/2022/mar...</td>\n",
       "      <td>Viral image</td>\n",
       "      <td>https://www.politifact.com/personalities/viral...</td>\n",
       "      <td>Republicans “nominated the 1st Black woman to ...</td>\n",
       "      <td>https://static.politifact.com/politifact/rulin...</td>\n",
       "      <td>stated on March 25, 2022 in a Facebook post:</td>\n",
       "      <td>No, Janice Rogers Brown wasn’t the first Black...</td>\n",
       "      <td>News reports have described Judge Ketanji Brow...</td>\n",
       "      <td>&lt;article class=\"m-textblock\"&gt;\\n&lt;p&gt;News reports...</td>\n",
       "      <td>Ciara O'Rourke</td>\n",
       "      <td>https://www.politifact.com/staff/ciara-orourke/</td>\n",
       "      <td>March 28, 2022</td>\n",
       "    </tr>\n",
       "  </tbody>\n",
       "</table>\n",
       "</div>"
      ],
      "text/plain": [
       "   Unnamed: 0                                                url  \\\n",
       "0           0  https://www.politifact.com/factchecks/2022/mar...   \n",
       "1           1  https://www.politifact.com/factchecks/2022/mar...   \n",
       "2           2  https://www.politifact.com/factchecks/2022/mar...   \n",
       "3           3  https://www.politifact.com/factchecks/2022/mar...   \n",
       "4           4  https://www.politifact.com/factchecks/2022/mar...   \n",
       "\n",
       "          speaker                                       speaker_info  \\\n",
       "0     Viral image  https://www.politifact.com/personalities/viral...   \n",
       "1  Facebook posts  https://www.politifact.com/personalities/faceb...   \n",
       "2  YouTube videos  https://www.politifact.com/personalities/youtu...   \n",
       "3      Eli Bremer  https://www.politifact.com/personalities/eli-b...   \n",
       "4     Viral image  https://www.politifact.com/personalities/viral...   \n",
       "\n",
       "                                           statement  \\\n",
       "0  CNN staged a fire in Edmonton, Canada, and cla...   \n",
       "1  The United Nations sent out an email instructi...   \n",
       "2  A video shows Ukraine President Volodymyr Zele...   \n",
       "3  “If you look at windmills” and the greenhouse ...   \n",
       "4  Republicans “nominated the 1st Black woman to ...   \n",
       "\n",
       "                                              rating  \\\n",
       "0  https://static.politifact.com/politifact/rulin...   \n",
       "1  https://static.politifact.com/politifact/rulin...   \n",
       "2  https://static.politifact.com/politifact/rulin...   \n",
       "3  https://static.politifact.com/politifact/rulin...   \n",
       "4  https://static.politifact.com/politifact/rulin...   \n",
       "\n",
       "                                          where_when  \\\n",
       "0       stated on March 28, 2022 in a Facebook post:   \n",
       "1       stated on March 17, 2022 in a Facebook post:   \n",
       "2  stated on March 19, 2022 in a YouTube video's ...   \n",
       "3  stated on March 23, 2022 in an interview with ...   \n",
       "4       stated on March 25, 2022 in a Facebook post:   \n",
       "\n",
       "                                               title  \\\n",
       "0  No, this Edmonton jacket isn’t proof CNN stage...   \n",
       "1  Claim that the UN told staff not to use ‘war,’...   \n",
       "2  Does video show Zelenskyy singing ‘Imagine’ by...   \n",
       "3  A GOP Senate candidate’s muddled claim about w...   \n",
       "4  No, Janice Rogers Brown wasn’t the first Black...   \n",
       "\n",
       "                                             content  \\\n",
       "0  CNN anchor Don Lemon has been reporting from U...   \n",
       "1  The United Nations is being criticized by some...   \n",
       "2  A viral YouTube video watched more than 1 mill...   \n",
       "3  Eli Bremer is one of seven Colorado Republican...   \n",
       "4  News reports have described Judge Ketanji Brow...   \n",
       "\n",
       "                                        content_html         factchecker  \\\n",
       "0  <article class=\"m-textblock\">\\n<p>CNN anchor D...      Ciara O'Rourke   \n",
       "1  <article class=\"m-textblock\">\\n<p>The United N...  Samantha Putterman   \n",
       "2  <article class=\"m-textblock\">\\n<p>A viral YouT...       Bill McCarthy   \n",
       "3  <article class=\"m-textblock\">\\n<p>Eli Bremer i...       Jon Greenberg   \n",
       "4  <article class=\"m-textblock\">\\n<p>News reports...      Ciara O'Rourke   \n",
       "\n",
       "                                    factchecker_info  factcheck_date  \n",
       "0    https://www.politifact.com/staff/ciara-orourke/  March 28, 2022  \n",
       "1  https://www.politifact.com/staff/samantha-putt...  March 28, 2022  \n",
       "2    https://www.politifact.com/staff/bill-mccarthy/  March 28, 2022  \n",
       "3    https://www.politifact.com/staff/jon-greenberg/  March 28, 2022  \n",
       "4    https://www.politifact.com/staff/ciara-orourke/  March 28, 2022  "
      ]
     },
     "execution_count": 136,
     "metadata": {},
     "output_type": "execute_result"
    }
   ],
   "source": [
    "df.head()"
   ]
  },
  {
   "cell_type": "code",
   "execution_count": 137,
   "id": "6c4c97ba",
   "metadata": {},
   "outputs": [],
   "source": [
    "meter = ['mostly true', 'half true','true', 'mostly false', 'false', \n",
    "         'pants on fire', 'full flop', 'no flip', 'half flip', 'half-flip', 'full-flip', 'no-flip']"
   ]
  },
  {
   "cell_type": "code",
   "execution_count": 138,
   "id": "170e619b",
   "metadata": {},
   "outputs": [],
   "source": [
    "rating = []\n",
    "for row in df.iloc:\n",
    "    article = row.content.lower()\n",
    "    flag = 0\n",
    "    for rate in meter:\n",
    "        if rate in article:\n",
    "            flag = 1\n",
    "            rating.append(rate)\n",
    "            break\n",
    "    if flag == 0:\n",
    "        rating.append('none')"
   ]
  },
  {
   "cell_type": "code",
   "execution_count": 139,
   "id": "3f209df4",
   "metadata": {},
   "outputs": [],
   "source": [
    "df['label'] = rating"
   ]
  },
  {
   "cell_type": "code",
   "execution_count": 141,
   "id": "e5d2ef4f",
   "metadata": {},
   "outputs": [],
   "source": [
    "df = df[df['label'] != 'none']"
   ]
  },
  {
   "cell_type": "code",
   "execution_count": 145,
   "id": "8b75f213",
   "metadata": {},
   "outputs": [
    {
     "data": {
      "text/html": [
       "<div>\n",
       "<style scoped>\n",
       "    .dataframe tbody tr th:only-of-type {\n",
       "        vertical-align: middle;\n",
       "    }\n",
       "\n",
       "    .dataframe tbody tr th {\n",
       "        vertical-align: top;\n",
       "    }\n",
       "\n",
       "    .dataframe thead th {\n",
       "        text-align: right;\n",
       "    }\n",
       "</style>\n",
       "<table border=\"1\" class=\"dataframe\">\n",
       "  <thead>\n",
       "    <tr style=\"text-align: right;\">\n",
       "      <th></th>\n",
       "      <th>Unnamed: 0</th>\n",
       "      <th>url</th>\n",
       "      <th>speaker</th>\n",
       "      <th>speaker_info</th>\n",
       "      <th>statement</th>\n",
       "      <th>rating</th>\n",
       "      <th>where_when</th>\n",
       "      <th>title</th>\n",
       "      <th>content</th>\n",
       "      <th>content_html</th>\n",
       "      <th>factchecker</th>\n",
       "      <th>factchecker_info</th>\n",
       "      <th>factcheck_date</th>\n",
       "      <th>label</th>\n",
       "    </tr>\n",
       "  </thead>\n",
       "  <tbody>\n",
       "    <tr>\n",
       "      <th>0</th>\n",
       "      <td>0</td>\n",
       "      <td>https://www.politifact.com/factchecks/2022/mar...</td>\n",
       "      <td>Viral image</td>\n",
       "      <td>https://www.politifact.com/personalities/viral...</td>\n",
       "      <td>CNN staged a fire in Edmonton, Canada, and cla...</td>\n",
       "      <td>https://static.politifact.com/politifact/rulin...</td>\n",
       "      <td>stated on March 28, 2022 in a Facebook post:</td>\n",
       "      <td>No, this Edmonton jacket isn’t proof CNN stage...</td>\n",
       "      <td>CNN anchor Don Lemon has been reporting from U...</td>\n",
       "      <td>&lt;article class=\"m-textblock\"&gt;\\n&lt;p&gt;CNN anchor D...</td>\n",
       "      <td>Ciara O'Rourke</td>\n",
       "      <td>https://www.politifact.com/staff/ciara-orourke/</td>\n",
       "      <td>March 28, 2022</td>\n",
       "      <td>false</td>\n",
       "    </tr>\n",
       "    <tr>\n",
       "      <th>1</th>\n",
       "      <td>1</td>\n",
       "      <td>https://www.politifact.com/factchecks/2022/mar...</td>\n",
       "      <td>Facebook posts</td>\n",
       "      <td>https://www.politifact.com/personalities/faceb...</td>\n",
       "      <td>The United Nations sent out an email instructi...</td>\n",
       "      <td>https://static.politifact.com/politifact/rulin...</td>\n",
       "      <td>stated on March 17, 2022 in a Facebook post:</td>\n",
       "      <td>Claim that the UN told staff not to use ‘war,’...</td>\n",
       "      <td>The United Nations is being criticized by some...</td>\n",
       "      <td>&lt;article class=\"m-textblock\"&gt;\\n&lt;p&gt;The United N...</td>\n",
       "      <td>Samantha Putterman</td>\n",
       "      <td>https://www.politifact.com/staff/samantha-putt...</td>\n",
       "      <td>March 28, 2022</td>\n",
       "      <td>half true</td>\n",
       "    </tr>\n",
       "    <tr>\n",
       "      <th>2</th>\n",
       "      <td>2</td>\n",
       "      <td>https://www.politifact.com/factchecks/2022/mar...</td>\n",
       "      <td>YouTube videos</td>\n",
       "      <td>https://www.politifact.com/personalities/youtu...</td>\n",
       "      <td>A video shows Ukraine President Volodymyr Zele...</td>\n",
       "      <td>https://static.politifact.com/politifact/rulin...</td>\n",
       "      <td>stated on March 19, 2022 in a YouTube video's ...</td>\n",
       "      <td>Does video show Zelenskyy singing ‘Imagine’ by...</td>\n",
       "      <td>A viral YouTube video watched more than 1 mill...</td>\n",
       "      <td>&lt;article class=\"m-textblock\"&gt;\\n&lt;p&gt;A viral YouT...</td>\n",
       "      <td>Bill McCarthy</td>\n",
       "      <td>https://www.politifact.com/staff/bill-mccarthy/</td>\n",
       "      <td>March 28, 2022</td>\n",
       "      <td>false</td>\n",
       "    </tr>\n",
       "    <tr>\n",
       "      <th>3</th>\n",
       "      <td>3</td>\n",
       "      <td>https://www.politifact.com/factchecks/2022/mar...</td>\n",
       "      <td>Eli Bremer</td>\n",
       "      <td>https://www.politifact.com/personalities/eli-b...</td>\n",
       "      <td>“If you look at windmills” and the greenhouse ...</td>\n",
       "      <td>https://static.politifact.com/politifact/rulin...</td>\n",
       "      <td>stated on March 23, 2022 in an interview with ...</td>\n",
       "      <td>A GOP Senate candidate’s muddled claim about w...</td>\n",
       "      <td>Eli Bremer is one of seven Colorado Republican...</td>\n",
       "      <td>&lt;article class=\"m-textblock\"&gt;\\n&lt;p&gt;Eli Bremer i...</td>\n",
       "      <td>Jon Greenberg</td>\n",
       "      <td>https://www.politifact.com/staff/jon-greenberg/</td>\n",
       "      <td>March 28, 2022</td>\n",
       "      <td>true</td>\n",
       "    </tr>\n",
       "    <tr>\n",
       "      <th>4</th>\n",
       "      <td>4</td>\n",
       "      <td>https://www.politifact.com/factchecks/2022/mar...</td>\n",
       "      <td>Viral image</td>\n",
       "      <td>https://www.politifact.com/personalities/viral...</td>\n",
       "      <td>Republicans “nominated the 1st Black woman to ...</td>\n",
       "      <td>https://static.politifact.com/politifact/rulin...</td>\n",
       "      <td>stated on March 25, 2022 in a Facebook post:</td>\n",
       "      <td>No, Janice Rogers Brown wasn’t the first Black...</td>\n",
       "      <td>News reports have described Judge Ketanji Brow...</td>\n",
       "      <td>&lt;article class=\"m-textblock\"&gt;\\n&lt;p&gt;News reports...</td>\n",
       "      <td>Ciara O'Rourke</td>\n",
       "      <td>https://www.politifact.com/staff/ciara-orourke/</td>\n",
       "      <td>March 28, 2022</td>\n",
       "      <td>false</td>\n",
       "    </tr>\n",
       "  </tbody>\n",
       "</table>\n",
       "</div>"
      ],
      "text/plain": [
       "   Unnamed: 0                                                url  \\\n",
       "0           0  https://www.politifact.com/factchecks/2022/mar...   \n",
       "1           1  https://www.politifact.com/factchecks/2022/mar...   \n",
       "2           2  https://www.politifact.com/factchecks/2022/mar...   \n",
       "3           3  https://www.politifact.com/factchecks/2022/mar...   \n",
       "4           4  https://www.politifact.com/factchecks/2022/mar...   \n",
       "\n",
       "          speaker                                       speaker_info  \\\n",
       "0     Viral image  https://www.politifact.com/personalities/viral...   \n",
       "1  Facebook posts  https://www.politifact.com/personalities/faceb...   \n",
       "2  YouTube videos  https://www.politifact.com/personalities/youtu...   \n",
       "3      Eli Bremer  https://www.politifact.com/personalities/eli-b...   \n",
       "4     Viral image  https://www.politifact.com/personalities/viral...   \n",
       "\n",
       "                                           statement  \\\n",
       "0  CNN staged a fire in Edmonton, Canada, and cla...   \n",
       "1  The United Nations sent out an email instructi...   \n",
       "2  A video shows Ukraine President Volodymyr Zele...   \n",
       "3  “If you look at windmills” and the greenhouse ...   \n",
       "4  Republicans “nominated the 1st Black woman to ...   \n",
       "\n",
       "                                              rating  \\\n",
       "0  https://static.politifact.com/politifact/rulin...   \n",
       "1  https://static.politifact.com/politifact/rulin...   \n",
       "2  https://static.politifact.com/politifact/rulin...   \n",
       "3  https://static.politifact.com/politifact/rulin...   \n",
       "4  https://static.politifact.com/politifact/rulin...   \n",
       "\n",
       "                                          where_when  \\\n",
       "0       stated on March 28, 2022 in a Facebook post:   \n",
       "1       stated on March 17, 2022 in a Facebook post:   \n",
       "2  stated on March 19, 2022 in a YouTube video's ...   \n",
       "3  stated on March 23, 2022 in an interview with ...   \n",
       "4       stated on March 25, 2022 in a Facebook post:   \n",
       "\n",
       "                                               title  \\\n",
       "0  No, this Edmonton jacket isn’t proof CNN stage...   \n",
       "1  Claim that the UN told staff not to use ‘war,’...   \n",
       "2  Does video show Zelenskyy singing ‘Imagine’ by...   \n",
       "3  A GOP Senate candidate’s muddled claim about w...   \n",
       "4  No, Janice Rogers Brown wasn’t the first Black...   \n",
       "\n",
       "                                             content  \\\n",
       "0  CNN anchor Don Lemon has been reporting from U...   \n",
       "1  The United Nations is being criticized by some...   \n",
       "2  A viral YouTube video watched more than 1 mill...   \n",
       "3  Eli Bremer is one of seven Colorado Republican...   \n",
       "4  News reports have described Judge Ketanji Brow...   \n",
       "\n",
       "                                        content_html         factchecker  \\\n",
       "0  <article class=\"m-textblock\">\\n<p>CNN anchor D...      Ciara O'Rourke   \n",
       "1  <article class=\"m-textblock\">\\n<p>The United N...  Samantha Putterman   \n",
       "2  <article class=\"m-textblock\">\\n<p>A viral YouT...       Bill McCarthy   \n",
       "3  <article class=\"m-textblock\">\\n<p>Eli Bremer i...       Jon Greenberg   \n",
       "4  <article class=\"m-textblock\">\\n<p>News reports...      Ciara O'Rourke   \n",
       "\n",
       "                                    factchecker_info  factcheck_date  \\\n",
       "0    https://www.politifact.com/staff/ciara-orourke/  March 28, 2022   \n",
       "1  https://www.politifact.com/staff/samantha-putt...  March 28, 2022   \n",
       "2    https://www.politifact.com/staff/bill-mccarthy/  March 28, 2022   \n",
       "3    https://www.politifact.com/staff/jon-greenberg/  March 28, 2022   \n",
       "4    https://www.politifact.com/staff/ciara-orourke/  March 28, 2022   \n",
       "\n",
       "       label  \n",
       "0      false  \n",
       "1  half true  \n",
       "2      false  \n",
       "3       true  \n",
       "4      false  "
      ]
     },
     "execution_count": 145,
     "metadata": {},
     "output_type": "execute_result"
    }
   ],
   "source": [
    "df.head()"
   ]
  },
  {
   "cell_type": "code",
   "execution_count": 144,
   "id": "75d65824",
   "metadata": {},
   "outputs": [],
   "source": [
    "df.to_csv('new_true_false.csv')"
   ]
  },
  {
   "cell_type": "code",
   "execution_count": 143,
   "id": "fff5f098",
   "metadata": {},
   "outputs": [
    {
     "ename": "KeyboardInterrupt",
     "evalue": "",
     "output_type": "error",
     "traceback": [
      "\u001b[0;31m---------------------------------------------------------------------------\u001b[0m",
      "\u001b[0;31mKeyboardInterrupt\u001b[0m                         Traceback (most recent call last)",
      "\u001b[0;32m/var/folders/vm/qk440crs5rx8zjsw41_ktc300000gn/T/ipykernel_2671/2644037895.py\u001b[0m in \u001b[0;36m<module>\u001b[0;34m\u001b[0m\n\u001b[1;32m      2\u001b[0m \u001b[0msent_score\u001b[0m \u001b[0;34m=\u001b[0m \u001b[0;34m[\u001b[0m\u001b[0;34m]\u001b[0m\u001b[0;34m\u001b[0m\u001b[0;34m\u001b[0m\u001b[0m\n\u001b[1;32m      3\u001b[0m \u001b[0;32mfor\u001b[0m \u001b[0mrow\u001b[0m \u001b[0;32min\u001b[0m \u001b[0mdf\u001b[0m\u001b[0;34m.\u001b[0m\u001b[0miloc\u001b[0m\u001b[0;34m:\u001b[0m\u001b[0;34m\u001b[0m\u001b[0;34m\u001b[0m\u001b[0m\n\u001b[0;32m----> 4\u001b[0;31m     \u001b[0msent\u001b[0m \u001b[0;34m=\u001b[0m \u001b[0mclf\u001b[0m\u001b[0;34m(\u001b[0m\u001b[0mrow\u001b[0m\u001b[0;34m.\u001b[0m\u001b[0mstatement\u001b[0m\u001b[0;34m)\u001b[0m\u001b[0;34m\u001b[0m\u001b[0;34m\u001b[0m\u001b[0m\n\u001b[0m\u001b[1;32m      5\u001b[0m     \u001b[0msentiment\u001b[0m\u001b[0;34m.\u001b[0m\u001b[0mappend\u001b[0m\u001b[0;34m(\u001b[0m\u001b[0msent\u001b[0m\u001b[0;34m[\u001b[0m\u001b[0;36m0\u001b[0m\u001b[0;34m]\u001b[0m\u001b[0;34m[\u001b[0m\u001b[0;34m'label'\u001b[0m\u001b[0;34m]\u001b[0m\u001b[0;34m)\u001b[0m\u001b[0;34m\u001b[0m\u001b[0;34m\u001b[0m\u001b[0m\n\u001b[1;32m      6\u001b[0m     \u001b[0msent_score\u001b[0m\u001b[0;34m.\u001b[0m\u001b[0mappend\u001b[0m\u001b[0;34m(\u001b[0m\u001b[0msent\u001b[0m\u001b[0;34m[\u001b[0m\u001b[0;36m0\u001b[0m\u001b[0;34m]\u001b[0m\u001b[0;34m[\u001b[0m\u001b[0;34m'score'\u001b[0m\u001b[0;34m]\u001b[0m\u001b[0;34m)\u001b[0m\u001b[0;34m\u001b[0m\u001b[0;34m\u001b[0m\u001b[0m\n",
      "\u001b[0;32m~/opt/anaconda3/envs/Python/lib/python3.9/site-packages/transformers/pipelines/text_classification.py\u001b[0m in \u001b[0;36m__call__\u001b[0;34m(self, *args, **kwargs)\u001b[0m\n\u001b[1;32m    124\u001b[0m             \u001b[0mIf\u001b[0m\u001b[0;31m \u001b[0m\u001b[0;31m`\u001b[0m\u001b[0;31m`\u001b[0m\u001b[0mself\u001b[0m\u001b[0;34m.\u001b[0m\u001b[0mreturn_all_scores\u001b[0m\u001b[0;34m=\u001b[0m\u001b[0;32mTrue\u001b[0m\u001b[0;31m`\u001b[0m\u001b[0;31m`\u001b[0m\u001b[0;34m,\u001b[0m \u001b[0mone\u001b[0m \u001b[0msuch\u001b[0m \u001b[0mdictionary\u001b[0m \u001b[0;32mis\u001b[0m \u001b[0mreturned\u001b[0m \u001b[0mper\u001b[0m \u001b[0mlabel\u001b[0m\u001b[0;34m.\u001b[0m\u001b[0;34m\u001b[0m\u001b[0;34m\u001b[0m\u001b[0m\n\u001b[1;32m    125\u001b[0m         \"\"\"\n\u001b[0;32m--> 126\u001b[0;31m         \u001b[0mresult\u001b[0m \u001b[0;34m=\u001b[0m \u001b[0msuper\u001b[0m\u001b[0;34m(\u001b[0m\u001b[0;34m)\u001b[0m\u001b[0;34m.\u001b[0m\u001b[0m__call__\u001b[0m\u001b[0;34m(\u001b[0m\u001b[0;34m*\u001b[0m\u001b[0margs\u001b[0m\u001b[0;34m,\u001b[0m \u001b[0;34m**\u001b[0m\u001b[0mkwargs\u001b[0m\u001b[0;34m)\u001b[0m\u001b[0;34m\u001b[0m\u001b[0;34m\u001b[0m\u001b[0m\n\u001b[0m\u001b[1;32m    127\u001b[0m         \u001b[0;32mif\u001b[0m \u001b[0misinstance\u001b[0m\u001b[0;34m(\u001b[0m\u001b[0margs\u001b[0m\u001b[0;34m[\u001b[0m\u001b[0;36m0\u001b[0m\u001b[0;34m]\u001b[0m\u001b[0;34m,\u001b[0m \u001b[0mstr\u001b[0m\u001b[0;34m)\u001b[0m\u001b[0;34m:\u001b[0m\u001b[0;34m\u001b[0m\u001b[0;34m\u001b[0m\u001b[0m\n\u001b[1;32m    128\u001b[0m             \u001b[0;31m# This pipeline is odd, and return a list when single item is run\u001b[0m\u001b[0;34m\u001b[0m\u001b[0;34m\u001b[0m\u001b[0m\n",
      "\u001b[0;32m~/opt/anaconda3/envs/Python/lib/python3.9/site-packages/transformers/pipelines/base.py\u001b[0m in \u001b[0;36m__call__\u001b[0;34m(self, inputs, num_workers, batch_size, *args, **kwargs)\u001b[0m\n\u001b[1;32m   1101\u001b[0m                 \u001b[0;32mreturn\u001b[0m \u001b[0mself\u001b[0m\u001b[0;34m.\u001b[0m\u001b[0miterate\u001b[0m\u001b[0;34m(\u001b[0m\u001b[0minputs\u001b[0m\u001b[0;34m,\u001b[0m \u001b[0mpreprocess_params\u001b[0m\u001b[0;34m,\u001b[0m \u001b[0mforward_params\u001b[0m\u001b[0;34m,\u001b[0m \u001b[0mpostprocess_params\u001b[0m\u001b[0;34m)\u001b[0m\u001b[0;34m\u001b[0m\u001b[0;34m\u001b[0m\u001b[0m\n\u001b[1;32m   1102\u001b[0m         \u001b[0;32melse\u001b[0m\u001b[0;34m:\u001b[0m\u001b[0;34m\u001b[0m\u001b[0;34m\u001b[0m\u001b[0m\n\u001b[0;32m-> 1103\u001b[0;31m             \u001b[0;32mreturn\u001b[0m \u001b[0mself\u001b[0m\u001b[0;34m.\u001b[0m\u001b[0mrun_single\u001b[0m\u001b[0;34m(\u001b[0m\u001b[0minputs\u001b[0m\u001b[0;34m,\u001b[0m \u001b[0mpreprocess_params\u001b[0m\u001b[0;34m,\u001b[0m \u001b[0mforward_params\u001b[0m\u001b[0;34m,\u001b[0m \u001b[0mpostprocess_params\u001b[0m\u001b[0;34m)\u001b[0m\u001b[0;34m\u001b[0m\u001b[0;34m\u001b[0m\u001b[0m\n\u001b[0m\u001b[1;32m   1104\u001b[0m \u001b[0;34m\u001b[0m\u001b[0m\n\u001b[1;32m   1105\u001b[0m     \u001b[0;32mdef\u001b[0m \u001b[0mrun_multi\u001b[0m\u001b[0;34m(\u001b[0m\u001b[0mself\u001b[0m\u001b[0;34m,\u001b[0m \u001b[0minputs\u001b[0m\u001b[0;34m,\u001b[0m \u001b[0mpreprocess_params\u001b[0m\u001b[0;34m,\u001b[0m \u001b[0mforward_params\u001b[0m\u001b[0;34m,\u001b[0m \u001b[0mpostprocess_params\u001b[0m\u001b[0;34m)\u001b[0m\u001b[0;34m:\u001b[0m\u001b[0;34m\u001b[0m\u001b[0;34m\u001b[0m\u001b[0m\n",
      "\u001b[0;32m~/opt/anaconda3/envs/Python/lib/python3.9/site-packages/transformers/pipelines/base.py\u001b[0m in \u001b[0;36mrun_single\u001b[0;34m(self, inputs, preprocess_params, forward_params, postprocess_params)\u001b[0m\n\u001b[1;32m   1108\u001b[0m     \u001b[0;32mdef\u001b[0m \u001b[0mrun_single\u001b[0m\u001b[0;34m(\u001b[0m\u001b[0mself\u001b[0m\u001b[0;34m,\u001b[0m \u001b[0minputs\u001b[0m\u001b[0;34m,\u001b[0m \u001b[0mpreprocess_params\u001b[0m\u001b[0;34m,\u001b[0m \u001b[0mforward_params\u001b[0m\u001b[0;34m,\u001b[0m \u001b[0mpostprocess_params\u001b[0m\u001b[0;34m)\u001b[0m\u001b[0;34m:\u001b[0m\u001b[0;34m\u001b[0m\u001b[0;34m\u001b[0m\u001b[0m\n\u001b[1;32m   1109\u001b[0m         \u001b[0mmodel_inputs\u001b[0m \u001b[0;34m=\u001b[0m \u001b[0mself\u001b[0m\u001b[0;34m.\u001b[0m\u001b[0mpreprocess\u001b[0m\u001b[0;34m(\u001b[0m\u001b[0minputs\u001b[0m\u001b[0;34m,\u001b[0m \u001b[0;34m**\u001b[0m\u001b[0mpreprocess_params\u001b[0m\u001b[0;34m)\u001b[0m\u001b[0;34m\u001b[0m\u001b[0;34m\u001b[0m\u001b[0m\n\u001b[0;32m-> 1110\u001b[0;31m         \u001b[0mmodel_outputs\u001b[0m \u001b[0;34m=\u001b[0m \u001b[0mself\u001b[0m\u001b[0;34m.\u001b[0m\u001b[0mforward\u001b[0m\u001b[0;34m(\u001b[0m\u001b[0mmodel_inputs\u001b[0m\u001b[0;34m,\u001b[0m \u001b[0;34m**\u001b[0m\u001b[0mforward_params\u001b[0m\u001b[0;34m)\u001b[0m\u001b[0;34m\u001b[0m\u001b[0;34m\u001b[0m\u001b[0m\n\u001b[0m\u001b[1;32m   1111\u001b[0m         \u001b[0moutputs\u001b[0m \u001b[0;34m=\u001b[0m \u001b[0mself\u001b[0m\u001b[0;34m.\u001b[0m\u001b[0mpostprocess\u001b[0m\u001b[0;34m(\u001b[0m\u001b[0mmodel_outputs\u001b[0m\u001b[0;34m,\u001b[0m \u001b[0;34m**\u001b[0m\u001b[0mpostprocess_params\u001b[0m\u001b[0;34m)\u001b[0m\u001b[0;34m\u001b[0m\u001b[0;34m\u001b[0m\u001b[0m\n\u001b[1;32m   1112\u001b[0m         \u001b[0;32mreturn\u001b[0m \u001b[0moutputs\u001b[0m\u001b[0;34m\u001b[0m\u001b[0;34m\u001b[0m\u001b[0m\n",
      "\u001b[0;32m~/opt/anaconda3/envs/Python/lib/python3.9/site-packages/transformers/pipelines/base.py\u001b[0m in \u001b[0;36mforward\u001b[0;34m(self, model_inputs, **forward_params)\u001b[0m\n\u001b[1;32m   1034\u001b[0m                 \u001b[0;32mwith\u001b[0m \u001b[0minference_context\u001b[0m\u001b[0;34m(\u001b[0m\u001b[0;34m)\u001b[0m\u001b[0;34m:\u001b[0m\u001b[0;34m\u001b[0m\u001b[0;34m\u001b[0m\u001b[0m\n\u001b[1;32m   1035\u001b[0m                     \u001b[0mmodel_inputs\u001b[0m \u001b[0;34m=\u001b[0m \u001b[0mself\u001b[0m\u001b[0;34m.\u001b[0m\u001b[0m_ensure_tensor_on_device\u001b[0m\u001b[0;34m(\u001b[0m\u001b[0mmodel_inputs\u001b[0m\u001b[0;34m,\u001b[0m \u001b[0mdevice\u001b[0m\u001b[0;34m=\u001b[0m\u001b[0mself\u001b[0m\u001b[0;34m.\u001b[0m\u001b[0mdevice\u001b[0m\u001b[0;34m)\u001b[0m\u001b[0;34m\u001b[0m\u001b[0;34m\u001b[0m\u001b[0m\n\u001b[0;32m-> 1036\u001b[0;31m                     \u001b[0mmodel_outputs\u001b[0m \u001b[0;34m=\u001b[0m \u001b[0mself\u001b[0m\u001b[0;34m.\u001b[0m\u001b[0m_forward\u001b[0m\u001b[0;34m(\u001b[0m\u001b[0mmodel_inputs\u001b[0m\u001b[0;34m,\u001b[0m \u001b[0;34m**\u001b[0m\u001b[0mforward_params\u001b[0m\u001b[0;34m)\u001b[0m\u001b[0;34m\u001b[0m\u001b[0;34m\u001b[0m\u001b[0m\n\u001b[0m\u001b[1;32m   1037\u001b[0m                     \u001b[0mmodel_outputs\u001b[0m \u001b[0;34m=\u001b[0m \u001b[0mself\u001b[0m\u001b[0;34m.\u001b[0m\u001b[0m_ensure_tensor_on_device\u001b[0m\u001b[0;34m(\u001b[0m\u001b[0mmodel_outputs\u001b[0m\u001b[0;34m,\u001b[0m \u001b[0mdevice\u001b[0m\u001b[0;34m=\u001b[0m\u001b[0mtorch\u001b[0m\u001b[0;34m.\u001b[0m\u001b[0mdevice\u001b[0m\u001b[0;34m(\u001b[0m\u001b[0;34m\"cpu\"\u001b[0m\u001b[0;34m)\u001b[0m\u001b[0;34m)\u001b[0m\u001b[0;34m\u001b[0m\u001b[0;34m\u001b[0m\u001b[0m\n\u001b[1;32m   1038\u001b[0m             \u001b[0;32melse\u001b[0m\u001b[0;34m:\u001b[0m\u001b[0;34m\u001b[0m\u001b[0;34m\u001b[0m\u001b[0m\n",
      "\u001b[0;32m~/opt/anaconda3/envs/Python/lib/python3.9/site-packages/transformers/pipelines/text_classification.py\u001b[0m in \u001b[0;36m_forward\u001b[0;34m(self, model_inputs)\u001b[0m\n\u001b[1;32m    136\u001b[0m \u001b[0;34m\u001b[0m\u001b[0m\n\u001b[1;32m    137\u001b[0m     \u001b[0;32mdef\u001b[0m \u001b[0m_forward\u001b[0m\u001b[0;34m(\u001b[0m\u001b[0mself\u001b[0m\u001b[0;34m,\u001b[0m \u001b[0mmodel_inputs\u001b[0m\u001b[0;34m)\u001b[0m\u001b[0;34m:\u001b[0m\u001b[0;34m\u001b[0m\u001b[0;34m\u001b[0m\u001b[0m\n\u001b[0;32m--> 138\u001b[0;31m         \u001b[0;32mreturn\u001b[0m \u001b[0mself\u001b[0m\u001b[0;34m.\u001b[0m\u001b[0mmodel\u001b[0m\u001b[0;34m(\u001b[0m\u001b[0;34m**\u001b[0m\u001b[0mmodel_inputs\u001b[0m\u001b[0;34m)\u001b[0m\u001b[0;34m\u001b[0m\u001b[0;34m\u001b[0m\u001b[0m\n\u001b[0m\u001b[1;32m    139\u001b[0m \u001b[0;34m\u001b[0m\u001b[0m\n\u001b[1;32m    140\u001b[0m     \u001b[0;32mdef\u001b[0m \u001b[0mpostprocess\u001b[0m\u001b[0;34m(\u001b[0m\u001b[0mself\u001b[0m\u001b[0;34m,\u001b[0m \u001b[0mmodel_outputs\u001b[0m\u001b[0;34m,\u001b[0m \u001b[0mfunction_to_apply\u001b[0m\u001b[0;34m=\u001b[0m\u001b[0;32mNone\u001b[0m\u001b[0;34m,\u001b[0m \u001b[0mreturn_all_scores\u001b[0m\u001b[0;34m=\u001b[0m\u001b[0;32mFalse\u001b[0m\u001b[0;34m)\u001b[0m\u001b[0;34m:\u001b[0m\u001b[0;34m\u001b[0m\u001b[0;34m\u001b[0m\u001b[0m\n",
      "\u001b[0;32m~/opt/anaconda3/envs/Python/lib/python3.9/site-packages/torch/nn/modules/module.py\u001b[0m in \u001b[0;36m_call_impl\u001b[0;34m(self, *input, **kwargs)\u001b[0m\n\u001b[1;32m    725\u001b[0m             \u001b[0mresult\u001b[0m \u001b[0;34m=\u001b[0m \u001b[0mself\u001b[0m\u001b[0;34m.\u001b[0m\u001b[0m_slow_forward\u001b[0m\u001b[0;34m(\u001b[0m\u001b[0;34m*\u001b[0m\u001b[0minput\u001b[0m\u001b[0;34m,\u001b[0m \u001b[0;34m**\u001b[0m\u001b[0mkwargs\u001b[0m\u001b[0;34m)\u001b[0m\u001b[0;34m\u001b[0m\u001b[0;34m\u001b[0m\u001b[0m\n\u001b[1;32m    726\u001b[0m         \u001b[0;32melse\u001b[0m\u001b[0;34m:\u001b[0m\u001b[0;34m\u001b[0m\u001b[0;34m\u001b[0m\u001b[0m\n\u001b[0;32m--> 727\u001b[0;31m             \u001b[0mresult\u001b[0m \u001b[0;34m=\u001b[0m \u001b[0mself\u001b[0m\u001b[0;34m.\u001b[0m\u001b[0mforward\u001b[0m\u001b[0;34m(\u001b[0m\u001b[0;34m*\u001b[0m\u001b[0minput\u001b[0m\u001b[0;34m,\u001b[0m \u001b[0;34m**\u001b[0m\u001b[0mkwargs\u001b[0m\u001b[0;34m)\u001b[0m\u001b[0;34m\u001b[0m\u001b[0;34m\u001b[0m\u001b[0m\n\u001b[0m\u001b[1;32m    728\u001b[0m         for hook in itertools.chain(\n\u001b[1;32m    729\u001b[0m                 \u001b[0m_global_forward_hooks\u001b[0m\u001b[0;34m.\u001b[0m\u001b[0mvalues\u001b[0m\u001b[0;34m(\u001b[0m\u001b[0;34m)\u001b[0m\u001b[0;34m,\u001b[0m\u001b[0;34m\u001b[0m\u001b[0;34m\u001b[0m\u001b[0m\n",
      "\u001b[0;32m~/opt/anaconda3/envs/Python/lib/python3.9/site-packages/transformers/models/distilbert/modeling_distilbert.py\u001b[0m in \u001b[0;36mforward\u001b[0;34m(self, input_ids, attention_mask, head_mask, inputs_embeds, labels, output_attentions, output_hidden_states, return_dict)\u001b[0m\n\u001b[1;32m    730\u001b[0m         \u001b[0mreturn_dict\u001b[0m \u001b[0;34m=\u001b[0m \u001b[0mreturn_dict\u001b[0m \u001b[0;32mif\u001b[0m \u001b[0mreturn_dict\u001b[0m \u001b[0;32mis\u001b[0m \u001b[0;32mnot\u001b[0m \u001b[0;32mNone\u001b[0m \u001b[0;32melse\u001b[0m \u001b[0mself\u001b[0m\u001b[0;34m.\u001b[0m\u001b[0mconfig\u001b[0m\u001b[0;34m.\u001b[0m\u001b[0muse_return_dict\u001b[0m\u001b[0;34m\u001b[0m\u001b[0;34m\u001b[0m\u001b[0m\n\u001b[1;32m    731\u001b[0m \u001b[0;34m\u001b[0m\u001b[0m\n\u001b[0;32m--> 732\u001b[0;31m         distilbert_output = self.distilbert(\n\u001b[0m\u001b[1;32m    733\u001b[0m             \u001b[0minput_ids\u001b[0m\u001b[0;34m=\u001b[0m\u001b[0minput_ids\u001b[0m\u001b[0;34m,\u001b[0m\u001b[0;34m\u001b[0m\u001b[0;34m\u001b[0m\u001b[0m\n\u001b[1;32m    734\u001b[0m             \u001b[0mattention_mask\u001b[0m\u001b[0;34m=\u001b[0m\u001b[0mattention_mask\u001b[0m\u001b[0;34m,\u001b[0m\u001b[0;34m\u001b[0m\u001b[0;34m\u001b[0m\u001b[0m\n",
      "\u001b[0;32m~/opt/anaconda3/envs/Python/lib/python3.9/site-packages/torch/nn/modules/module.py\u001b[0m in \u001b[0;36m_call_impl\u001b[0;34m(self, *input, **kwargs)\u001b[0m\n\u001b[1;32m    725\u001b[0m             \u001b[0mresult\u001b[0m \u001b[0;34m=\u001b[0m \u001b[0mself\u001b[0m\u001b[0;34m.\u001b[0m\u001b[0m_slow_forward\u001b[0m\u001b[0;34m(\u001b[0m\u001b[0;34m*\u001b[0m\u001b[0minput\u001b[0m\u001b[0;34m,\u001b[0m \u001b[0;34m**\u001b[0m\u001b[0mkwargs\u001b[0m\u001b[0;34m)\u001b[0m\u001b[0;34m\u001b[0m\u001b[0;34m\u001b[0m\u001b[0m\n\u001b[1;32m    726\u001b[0m         \u001b[0;32melse\u001b[0m\u001b[0;34m:\u001b[0m\u001b[0;34m\u001b[0m\u001b[0;34m\u001b[0m\u001b[0m\n\u001b[0;32m--> 727\u001b[0;31m             \u001b[0mresult\u001b[0m \u001b[0;34m=\u001b[0m \u001b[0mself\u001b[0m\u001b[0;34m.\u001b[0m\u001b[0mforward\u001b[0m\u001b[0;34m(\u001b[0m\u001b[0;34m*\u001b[0m\u001b[0minput\u001b[0m\u001b[0;34m,\u001b[0m \u001b[0;34m**\u001b[0m\u001b[0mkwargs\u001b[0m\u001b[0;34m)\u001b[0m\u001b[0;34m\u001b[0m\u001b[0;34m\u001b[0m\u001b[0m\n\u001b[0m\u001b[1;32m    728\u001b[0m         for hook in itertools.chain(\n\u001b[1;32m    729\u001b[0m                 \u001b[0m_global_forward_hooks\u001b[0m\u001b[0;34m.\u001b[0m\u001b[0mvalues\u001b[0m\u001b[0;34m(\u001b[0m\u001b[0;34m)\u001b[0m\u001b[0;34m,\u001b[0m\u001b[0;34m\u001b[0m\u001b[0;34m\u001b[0m\u001b[0m\n",
      "\u001b[0;32m~/opt/anaconda3/envs/Python/lib/python3.9/site-packages/transformers/models/distilbert/modeling_distilbert.py\u001b[0m in \u001b[0;36mforward\u001b[0;34m(self, input_ids, attention_mask, head_mask, inputs_embeds, output_attentions, output_hidden_states, return_dict)\u001b[0m\n\u001b[1;32m    550\u001b[0m         \u001b[0;32mif\u001b[0m \u001b[0minputs_embeds\u001b[0m \u001b[0;32mis\u001b[0m \u001b[0;32mNone\u001b[0m\u001b[0;34m:\u001b[0m\u001b[0;34m\u001b[0m\u001b[0;34m\u001b[0m\u001b[0m\n\u001b[1;32m    551\u001b[0m             \u001b[0minputs_embeds\u001b[0m \u001b[0;34m=\u001b[0m \u001b[0mself\u001b[0m\u001b[0;34m.\u001b[0m\u001b[0membeddings\u001b[0m\u001b[0;34m(\u001b[0m\u001b[0minput_ids\u001b[0m\u001b[0;34m)\u001b[0m  \u001b[0;31m# (bs, seq_length, dim)\u001b[0m\u001b[0;34m\u001b[0m\u001b[0;34m\u001b[0m\u001b[0m\n\u001b[0;32m--> 552\u001b[0;31m         return self.transformer(\n\u001b[0m\u001b[1;32m    553\u001b[0m             \u001b[0mx\u001b[0m\u001b[0;34m=\u001b[0m\u001b[0minputs_embeds\u001b[0m\u001b[0;34m,\u001b[0m\u001b[0;34m\u001b[0m\u001b[0;34m\u001b[0m\u001b[0m\n\u001b[1;32m    554\u001b[0m             \u001b[0mattn_mask\u001b[0m\u001b[0;34m=\u001b[0m\u001b[0mattention_mask\u001b[0m\u001b[0;34m,\u001b[0m\u001b[0;34m\u001b[0m\u001b[0;34m\u001b[0m\u001b[0m\n",
      "\u001b[0;32m~/opt/anaconda3/envs/Python/lib/python3.9/site-packages/torch/nn/modules/module.py\u001b[0m in \u001b[0;36m_call_impl\u001b[0;34m(self, *input, **kwargs)\u001b[0m\n\u001b[1;32m    725\u001b[0m             \u001b[0mresult\u001b[0m \u001b[0;34m=\u001b[0m \u001b[0mself\u001b[0m\u001b[0;34m.\u001b[0m\u001b[0m_slow_forward\u001b[0m\u001b[0;34m(\u001b[0m\u001b[0;34m*\u001b[0m\u001b[0minput\u001b[0m\u001b[0;34m,\u001b[0m \u001b[0;34m**\u001b[0m\u001b[0mkwargs\u001b[0m\u001b[0;34m)\u001b[0m\u001b[0;34m\u001b[0m\u001b[0;34m\u001b[0m\u001b[0m\n\u001b[1;32m    726\u001b[0m         \u001b[0;32melse\u001b[0m\u001b[0;34m:\u001b[0m\u001b[0;34m\u001b[0m\u001b[0;34m\u001b[0m\u001b[0m\n\u001b[0;32m--> 727\u001b[0;31m             \u001b[0mresult\u001b[0m \u001b[0;34m=\u001b[0m \u001b[0mself\u001b[0m\u001b[0;34m.\u001b[0m\u001b[0mforward\u001b[0m\u001b[0;34m(\u001b[0m\u001b[0;34m*\u001b[0m\u001b[0minput\u001b[0m\u001b[0;34m,\u001b[0m \u001b[0;34m**\u001b[0m\u001b[0mkwargs\u001b[0m\u001b[0;34m)\u001b[0m\u001b[0;34m\u001b[0m\u001b[0;34m\u001b[0m\u001b[0m\n\u001b[0m\u001b[1;32m    728\u001b[0m         for hook in itertools.chain(\n\u001b[1;32m    729\u001b[0m                 \u001b[0m_global_forward_hooks\u001b[0m\u001b[0;34m.\u001b[0m\u001b[0mvalues\u001b[0m\u001b[0;34m(\u001b[0m\u001b[0;34m)\u001b[0m\u001b[0;34m,\u001b[0m\u001b[0;34m\u001b[0m\u001b[0;34m\u001b[0m\u001b[0m\n",
      "\u001b[0;32m~/opt/anaconda3/envs/Python/lib/python3.9/site-packages/transformers/models/distilbert/modeling_distilbert.py\u001b[0m in \u001b[0;36mforward\u001b[0;34m(self, x, attn_mask, head_mask, output_attentions, output_hidden_states, return_dict)\u001b[0m\n\u001b[1;32m    325\u001b[0m                 \u001b[0mall_hidden_states\u001b[0m \u001b[0;34m=\u001b[0m \u001b[0mall_hidden_states\u001b[0m \u001b[0;34m+\u001b[0m \u001b[0;34m(\u001b[0m\u001b[0mhidden_state\u001b[0m\u001b[0;34m,\u001b[0m\u001b[0;34m)\u001b[0m\u001b[0;34m\u001b[0m\u001b[0;34m\u001b[0m\u001b[0m\n\u001b[1;32m    326\u001b[0m \u001b[0;34m\u001b[0m\u001b[0m\n\u001b[0;32m--> 327\u001b[0;31m             layer_outputs = layer_module(\n\u001b[0m\u001b[1;32m    328\u001b[0m                 \u001b[0mx\u001b[0m\u001b[0;34m=\u001b[0m\u001b[0mhidden_state\u001b[0m\u001b[0;34m,\u001b[0m \u001b[0mattn_mask\u001b[0m\u001b[0;34m=\u001b[0m\u001b[0mattn_mask\u001b[0m\u001b[0;34m,\u001b[0m \u001b[0mhead_mask\u001b[0m\u001b[0;34m=\u001b[0m\u001b[0mhead_mask\u001b[0m\u001b[0;34m[\u001b[0m\u001b[0mi\u001b[0m\u001b[0;34m]\u001b[0m\u001b[0;34m,\u001b[0m \u001b[0moutput_attentions\u001b[0m\u001b[0;34m=\u001b[0m\u001b[0moutput_attentions\u001b[0m\u001b[0;34m\u001b[0m\u001b[0;34m\u001b[0m\u001b[0m\n\u001b[1;32m    329\u001b[0m             )\n",
      "\u001b[0;32m~/opt/anaconda3/envs/Python/lib/python3.9/site-packages/torch/nn/modules/module.py\u001b[0m in \u001b[0;36m_call_impl\u001b[0;34m(self, *input, **kwargs)\u001b[0m\n\u001b[1;32m    725\u001b[0m             \u001b[0mresult\u001b[0m \u001b[0;34m=\u001b[0m \u001b[0mself\u001b[0m\u001b[0;34m.\u001b[0m\u001b[0m_slow_forward\u001b[0m\u001b[0;34m(\u001b[0m\u001b[0;34m*\u001b[0m\u001b[0minput\u001b[0m\u001b[0;34m,\u001b[0m \u001b[0;34m**\u001b[0m\u001b[0mkwargs\u001b[0m\u001b[0;34m)\u001b[0m\u001b[0;34m\u001b[0m\u001b[0;34m\u001b[0m\u001b[0m\n\u001b[1;32m    726\u001b[0m         \u001b[0;32melse\u001b[0m\u001b[0;34m:\u001b[0m\u001b[0;34m\u001b[0m\u001b[0;34m\u001b[0m\u001b[0m\n\u001b[0;32m--> 727\u001b[0;31m             \u001b[0mresult\u001b[0m \u001b[0;34m=\u001b[0m \u001b[0mself\u001b[0m\u001b[0;34m.\u001b[0m\u001b[0mforward\u001b[0m\u001b[0;34m(\u001b[0m\u001b[0;34m*\u001b[0m\u001b[0minput\u001b[0m\u001b[0;34m,\u001b[0m \u001b[0;34m**\u001b[0m\u001b[0mkwargs\u001b[0m\u001b[0;34m)\u001b[0m\u001b[0;34m\u001b[0m\u001b[0;34m\u001b[0m\u001b[0m\n\u001b[0m\u001b[1;32m    728\u001b[0m         for hook in itertools.chain(\n\u001b[1;32m    729\u001b[0m                 \u001b[0m_global_forward_hooks\u001b[0m\u001b[0;34m.\u001b[0m\u001b[0mvalues\u001b[0m\u001b[0;34m(\u001b[0m\u001b[0;34m)\u001b[0m\u001b[0;34m,\u001b[0m\u001b[0;34m\u001b[0m\u001b[0;34m\u001b[0m\u001b[0m\n",
      "\u001b[0;32m~/opt/anaconda3/envs/Python/lib/python3.9/site-packages/transformers/models/distilbert/modeling_distilbert.py\u001b[0m in \u001b[0;36mforward\u001b[0;34m(self, x, attn_mask, head_mask, output_attentions)\u001b[0m\n\u001b[1;32m    285\u001b[0m \u001b[0;34m\u001b[0m\u001b[0m\n\u001b[1;32m    286\u001b[0m         \u001b[0;31m# Feed Forward Network\u001b[0m\u001b[0;34m\u001b[0m\u001b[0;34m\u001b[0m\u001b[0m\n\u001b[0;32m--> 287\u001b[0;31m         \u001b[0mffn_output\u001b[0m \u001b[0;34m=\u001b[0m \u001b[0mself\u001b[0m\u001b[0;34m.\u001b[0m\u001b[0mffn\u001b[0m\u001b[0;34m(\u001b[0m\u001b[0msa_output\u001b[0m\u001b[0;34m)\u001b[0m  \u001b[0;31m# (bs, seq_length, dim)\u001b[0m\u001b[0;34m\u001b[0m\u001b[0;34m\u001b[0m\u001b[0m\n\u001b[0m\u001b[1;32m    288\u001b[0m         \u001b[0mffn_output\u001b[0m \u001b[0;34m=\u001b[0m \u001b[0mself\u001b[0m\u001b[0;34m.\u001b[0m\u001b[0moutput_layer_norm\u001b[0m\u001b[0;34m(\u001b[0m\u001b[0mffn_output\u001b[0m \u001b[0;34m+\u001b[0m \u001b[0msa_output\u001b[0m\u001b[0;34m)\u001b[0m  \u001b[0;31m# (bs, seq_length, dim)\u001b[0m\u001b[0;34m\u001b[0m\u001b[0;34m\u001b[0m\u001b[0m\n\u001b[1;32m    289\u001b[0m \u001b[0;34m\u001b[0m\u001b[0m\n",
      "\u001b[0;32m~/opt/anaconda3/envs/Python/lib/python3.9/site-packages/torch/nn/modules/module.py\u001b[0m in \u001b[0;36m_call_impl\u001b[0;34m(self, *input, **kwargs)\u001b[0m\n\u001b[1;32m    725\u001b[0m             \u001b[0mresult\u001b[0m \u001b[0;34m=\u001b[0m \u001b[0mself\u001b[0m\u001b[0;34m.\u001b[0m\u001b[0m_slow_forward\u001b[0m\u001b[0;34m(\u001b[0m\u001b[0;34m*\u001b[0m\u001b[0minput\u001b[0m\u001b[0;34m,\u001b[0m \u001b[0;34m**\u001b[0m\u001b[0mkwargs\u001b[0m\u001b[0;34m)\u001b[0m\u001b[0;34m\u001b[0m\u001b[0;34m\u001b[0m\u001b[0m\n\u001b[1;32m    726\u001b[0m         \u001b[0;32melse\u001b[0m\u001b[0;34m:\u001b[0m\u001b[0;34m\u001b[0m\u001b[0;34m\u001b[0m\u001b[0m\n\u001b[0;32m--> 727\u001b[0;31m             \u001b[0mresult\u001b[0m \u001b[0;34m=\u001b[0m \u001b[0mself\u001b[0m\u001b[0;34m.\u001b[0m\u001b[0mforward\u001b[0m\u001b[0;34m(\u001b[0m\u001b[0;34m*\u001b[0m\u001b[0minput\u001b[0m\u001b[0;34m,\u001b[0m \u001b[0;34m**\u001b[0m\u001b[0mkwargs\u001b[0m\u001b[0;34m)\u001b[0m\u001b[0;34m\u001b[0m\u001b[0;34m\u001b[0m\u001b[0m\n\u001b[0m\u001b[1;32m    728\u001b[0m         for hook in itertools.chain(\n\u001b[1;32m    729\u001b[0m                 \u001b[0m_global_forward_hooks\u001b[0m\u001b[0;34m.\u001b[0m\u001b[0mvalues\u001b[0m\u001b[0;34m(\u001b[0m\u001b[0;34m)\u001b[0m\u001b[0;34m,\u001b[0m\u001b[0;34m\u001b[0m\u001b[0;34m\u001b[0m\u001b[0m\n",
      "\u001b[0;32m~/opt/anaconda3/envs/Python/lib/python3.9/site-packages/transformers/models/distilbert/modeling_distilbert.py\u001b[0m in \u001b[0;36mforward\u001b[0;34m(self, input)\u001b[0m\n\u001b[1;32m    236\u001b[0m \u001b[0;34m\u001b[0m\u001b[0m\n\u001b[1;32m    237\u001b[0m     \u001b[0;32mdef\u001b[0m \u001b[0mforward\u001b[0m\u001b[0;34m(\u001b[0m\u001b[0mself\u001b[0m\u001b[0;34m,\u001b[0m \u001b[0minput\u001b[0m\u001b[0;34m)\u001b[0m\u001b[0;34m:\u001b[0m\u001b[0;34m\u001b[0m\u001b[0;34m\u001b[0m\u001b[0m\n\u001b[0;32m--> 238\u001b[0;31m         \u001b[0;32mreturn\u001b[0m \u001b[0mapply_chunking_to_forward\u001b[0m\u001b[0;34m(\u001b[0m\u001b[0mself\u001b[0m\u001b[0;34m.\u001b[0m\u001b[0mff_chunk\u001b[0m\u001b[0;34m,\u001b[0m \u001b[0mself\u001b[0m\u001b[0;34m.\u001b[0m\u001b[0mchunk_size_feed_forward\u001b[0m\u001b[0;34m,\u001b[0m \u001b[0mself\u001b[0m\u001b[0;34m.\u001b[0m\u001b[0mseq_len_dim\u001b[0m\u001b[0;34m,\u001b[0m \u001b[0minput\u001b[0m\u001b[0;34m)\u001b[0m\u001b[0;34m\u001b[0m\u001b[0;34m\u001b[0m\u001b[0m\n\u001b[0m\u001b[1;32m    239\u001b[0m \u001b[0;34m\u001b[0m\u001b[0m\n\u001b[1;32m    240\u001b[0m     \u001b[0;32mdef\u001b[0m \u001b[0mff_chunk\u001b[0m\u001b[0;34m(\u001b[0m\u001b[0mself\u001b[0m\u001b[0;34m,\u001b[0m \u001b[0minput\u001b[0m\u001b[0;34m)\u001b[0m\u001b[0;34m:\u001b[0m\u001b[0;34m\u001b[0m\u001b[0;34m\u001b[0m\u001b[0m\n",
      "\u001b[0;32m~/opt/anaconda3/envs/Python/lib/python3.9/site-packages/transformers/modeling_utils.py\u001b[0m in \u001b[0;36mapply_chunking_to_forward\u001b[0;34m(forward_fn, chunk_size, chunk_dim, *input_tensors)\u001b[0m\n\u001b[1;32m   2359\u001b[0m         \u001b[0;32mreturn\u001b[0m \u001b[0mtorch\u001b[0m\u001b[0;34m.\u001b[0m\u001b[0mcat\u001b[0m\u001b[0;34m(\u001b[0m\u001b[0moutput_chunks\u001b[0m\u001b[0;34m,\u001b[0m \u001b[0mdim\u001b[0m\u001b[0;34m=\u001b[0m\u001b[0mchunk_dim\u001b[0m\u001b[0;34m)\u001b[0m\u001b[0;34m\u001b[0m\u001b[0;34m\u001b[0m\u001b[0m\n\u001b[1;32m   2360\u001b[0m \u001b[0;34m\u001b[0m\u001b[0m\n\u001b[0;32m-> 2361\u001b[0;31m     \u001b[0;32mreturn\u001b[0m \u001b[0mforward_fn\u001b[0m\u001b[0;34m(\u001b[0m\u001b[0;34m*\u001b[0m\u001b[0minput_tensors\u001b[0m\u001b[0;34m)\u001b[0m\u001b[0;34m\u001b[0m\u001b[0;34m\u001b[0m\u001b[0m\n\u001b[0m",
      "\u001b[0;32m~/opt/anaconda3/envs/Python/lib/python3.9/site-packages/transformers/models/distilbert/modeling_distilbert.py\u001b[0m in \u001b[0;36mff_chunk\u001b[0;34m(self, input)\u001b[0m\n\u001b[1;32m    239\u001b[0m \u001b[0;34m\u001b[0m\u001b[0m\n\u001b[1;32m    240\u001b[0m     \u001b[0;32mdef\u001b[0m \u001b[0mff_chunk\u001b[0m\u001b[0;34m(\u001b[0m\u001b[0mself\u001b[0m\u001b[0;34m,\u001b[0m \u001b[0minput\u001b[0m\u001b[0;34m)\u001b[0m\u001b[0;34m:\u001b[0m\u001b[0;34m\u001b[0m\u001b[0;34m\u001b[0m\u001b[0m\n\u001b[0;32m--> 241\u001b[0;31m         \u001b[0mx\u001b[0m \u001b[0;34m=\u001b[0m \u001b[0mself\u001b[0m\u001b[0;34m.\u001b[0m\u001b[0mlin1\u001b[0m\u001b[0;34m(\u001b[0m\u001b[0minput\u001b[0m\u001b[0;34m)\u001b[0m\u001b[0;34m\u001b[0m\u001b[0;34m\u001b[0m\u001b[0m\n\u001b[0m\u001b[1;32m    242\u001b[0m         \u001b[0mx\u001b[0m \u001b[0;34m=\u001b[0m \u001b[0mself\u001b[0m\u001b[0;34m.\u001b[0m\u001b[0mactivation\u001b[0m\u001b[0;34m(\u001b[0m\u001b[0mx\u001b[0m\u001b[0;34m)\u001b[0m\u001b[0;34m\u001b[0m\u001b[0;34m\u001b[0m\u001b[0m\n\u001b[1;32m    243\u001b[0m         \u001b[0mx\u001b[0m \u001b[0;34m=\u001b[0m \u001b[0mself\u001b[0m\u001b[0;34m.\u001b[0m\u001b[0mlin2\u001b[0m\u001b[0;34m(\u001b[0m\u001b[0mx\u001b[0m\u001b[0;34m)\u001b[0m\u001b[0;34m\u001b[0m\u001b[0;34m\u001b[0m\u001b[0m\n",
      "\u001b[0;32m~/opt/anaconda3/envs/Python/lib/python3.9/site-packages/torch/nn/modules/module.py\u001b[0m in \u001b[0;36m_call_impl\u001b[0;34m(self, *input, **kwargs)\u001b[0m\n\u001b[1;32m    725\u001b[0m             \u001b[0mresult\u001b[0m \u001b[0;34m=\u001b[0m \u001b[0mself\u001b[0m\u001b[0;34m.\u001b[0m\u001b[0m_slow_forward\u001b[0m\u001b[0;34m(\u001b[0m\u001b[0;34m*\u001b[0m\u001b[0minput\u001b[0m\u001b[0;34m,\u001b[0m \u001b[0;34m**\u001b[0m\u001b[0mkwargs\u001b[0m\u001b[0;34m)\u001b[0m\u001b[0;34m\u001b[0m\u001b[0;34m\u001b[0m\u001b[0m\n\u001b[1;32m    726\u001b[0m         \u001b[0;32melse\u001b[0m\u001b[0;34m:\u001b[0m\u001b[0;34m\u001b[0m\u001b[0;34m\u001b[0m\u001b[0m\n\u001b[0;32m--> 727\u001b[0;31m             \u001b[0mresult\u001b[0m \u001b[0;34m=\u001b[0m \u001b[0mself\u001b[0m\u001b[0;34m.\u001b[0m\u001b[0mforward\u001b[0m\u001b[0;34m(\u001b[0m\u001b[0;34m*\u001b[0m\u001b[0minput\u001b[0m\u001b[0;34m,\u001b[0m \u001b[0;34m**\u001b[0m\u001b[0mkwargs\u001b[0m\u001b[0;34m)\u001b[0m\u001b[0;34m\u001b[0m\u001b[0;34m\u001b[0m\u001b[0m\n\u001b[0m\u001b[1;32m    728\u001b[0m         for hook in itertools.chain(\n\u001b[1;32m    729\u001b[0m                 \u001b[0m_global_forward_hooks\u001b[0m\u001b[0;34m.\u001b[0m\u001b[0mvalues\u001b[0m\u001b[0;34m(\u001b[0m\u001b[0;34m)\u001b[0m\u001b[0;34m,\u001b[0m\u001b[0;34m\u001b[0m\u001b[0;34m\u001b[0m\u001b[0m\n",
      "\u001b[0;32m~/opt/anaconda3/envs/Python/lib/python3.9/site-packages/torch/nn/modules/linear.py\u001b[0m in \u001b[0;36mforward\u001b[0;34m(self, input)\u001b[0m\n\u001b[1;32m     91\u001b[0m \u001b[0;34m\u001b[0m\u001b[0m\n\u001b[1;32m     92\u001b[0m     \u001b[0;32mdef\u001b[0m \u001b[0mforward\u001b[0m\u001b[0;34m(\u001b[0m\u001b[0mself\u001b[0m\u001b[0;34m,\u001b[0m \u001b[0minput\u001b[0m\u001b[0;34m:\u001b[0m \u001b[0mTensor\u001b[0m\u001b[0;34m)\u001b[0m \u001b[0;34m->\u001b[0m \u001b[0mTensor\u001b[0m\u001b[0;34m:\u001b[0m\u001b[0;34m\u001b[0m\u001b[0;34m\u001b[0m\u001b[0m\n\u001b[0;32m---> 93\u001b[0;31m         \u001b[0;32mreturn\u001b[0m \u001b[0mF\u001b[0m\u001b[0;34m.\u001b[0m\u001b[0mlinear\u001b[0m\u001b[0;34m(\u001b[0m\u001b[0minput\u001b[0m\u001b[0;34m,\u001b[0m \u001b[0mself\u001b[0m\u001b[0;34m.\u001b[0m\u001b[0mweight\u001b[0m\u001b[0;34m,\u001b[0m \u001b[0mself\u001b[0m\u001b[0;34m.\u001b[0m\u001b[0mbias\u001b[0m\u001b[0;34m)\u001b[0m\u001b[0;34m\u001b[0m\u001b[0;34m\u001b[0m\u001b[0m\n\u001b[0m\u001b[1;32m     94\u001b[0m \u001b[0;34m\u001b[0m\u001b[0m\n\u001b[1;32m     95\u001b[0m     \u001b[0;32mdef\u001b[0m \u001b[0mextra_repr\u001b[0m\u001b[0;34m(\u001b[0m\u001b[0mself\u001b[0m\u001b[0;34m)\u001b[0m \u001b[0;34m->\u001b[0m \u001b[0mstr\u001b[0m\u001b[0;34m:\u001b[0m\u001b[0;34m\u001b[0m\u001b[0;34m\u001b[0m\u001b[0m\n",
      "\u001b[0;32m~/opt/anaconda3/envs/Python/lib/python3.9/site-packages/torch/nn/functional.py\u001b[0m in \u001b[0;36mlinear\u001b[0;34m(input, weight, bias)\u001b[0m\n\u001b[1;32m   1690\u001b[0m         \u001b[0mret\u001b[0m \u001b[0;34m=\u001b[0m \u001b[0mtorch\u001b[0m\u001b[0;34m.\u001b[0m\u001b[0maddmm\u001b[0m\u001b[0;34m(\u001b[0m\u001b[0mbias\u001b[0m\u001b[0;34m,\u001b[0m \u001b[0minput\u001b[0m\u001b[0;34m,\u001b[0m \u001b[0mweight\u001b[0m\u001b[0;34m.\u001b[0m\u001b[0mt\u001b[0m\u001b[0;34m(\u001b[0m\u001b[0;34m)\u001b[0m\u001b[0;34m)\u001b[0m\u001b[0;34m\u001b[0m\u001b[0;34m\u001b[0m\u001b[0m\n\u001b[1;32m   1691\u001b[0m     \u001b[0;32melse\u001b[0m\u001b[0;34m:\u001b[0m\u001b[0;34m\u001b[0m\u001b[0;34m\u001b[0m\u001b[0m\n\u001b[0;32m-> 1692\u001b[0;31m         \u001b[0moutput\u001b[0m \u001b[0;34m=\u001b[0m \u001b[0minput\u001b[0m\u001b[0;34m.\u001b[0m\u001b[0mmatmul\u001b[0m\u001b[0;34m(\u001b[0m\u001b[0mweight\u001b[0m\u001b[0;34m.\u001b[0m\u001b[0mt\u001b[0m\u001b[0;34m(\u001b[0m\u001b[0;34m)\u001b[0m\u001b[0;34m)\u001b[0m\u001b[0;34m\u001b[0m\u001b[0;34m\u001b[0m\u001b[0m\n\u001b[0m\u001b[1;32m   1693\u001b[0m         \u001b[0;32mif\u001b[0m \u001b[0mbias\u001b[0m \u001b[0;32mis\u001b[0m \u001b[0;32mnot\u001b[0m \u001b[0;32mNone\u001b[0m\u001b[0;34m:\u001b[0m\u001b[0;34m\u001b[0m\u001b[0;34m\u001b[0m\u001b[0m\n\u001b[1;32m   1694\u001b[0m             \u001b[0moutput\u001b[0m \u001b[0;34m+=\u001b[0m \u001b[0mbias\u001b[0m\u001b[0;34m\u001b[0m\u001b[0;34m\u001b[0m\u001b[0m\n",
      "\u001b[0;31mKeyboardInterrupt\u001b[0m: "
     ]
    }
   ],
   "source": [
    "sentiment = []\n",
    "sent_score = []\n",
    "for row in df.iloc:\n",
    "    sent = clf(row.statement)\n",
    "    sentiment.append(sent[0]['label'])\n",
    "    sent_score.append(sent[0]['score'])"
   ]
  },
  {
   "cell_type": "code",
   "execution_count": null,
   "id": "c518f201",
   "metadata": {},
   "outputs": [],
   "source": [
    "df['sentiment'] = sentiment\n",
    "df['sent_score'] = sent_score"
   ]
  },
  {
   "cell_type": "code",
   "execution_count": null,
   "id": "b8f27a94",
   "metadata": {},
   "outputs": [],
   "source": [
    "df.to_csv('politifact_sentiment.csv')"
   ]
  },
  {
   "cell_type": "code",
   "execution_count": 224,
   "id": "9e7d6958",
   "metadata": {},
   "outputs": [],
   "source": [
    "r['left_leaning'] = 0"
   ]
  },
  {
   "cell_type": "code",
   "execution_count": 225,
   "id": "b89a11ae",
   "metadata": {},
   "outputs": [],
   "source": [
    "r.loc[r.democrat_false < r.republican_false, 'left_leaning'] = 1"
   ]
  },
  {
   "cell_type": "code",
   "execution_count": 148,
   "id": "80fd26e9",
   "metadata": {},
   "outputs": [],
   "source": [
    "r = r.reset_index()"
   ]
  },
  {
   "cell_type": "code",
   "execution_count": 149,
   "id": "2261950f",
   "metadata": {},
   "outputs": [
    {
     "data": {
      "text/html": [
       "<div>\n",
       "<style scoped>\n",
       "    .dataframe tbody tr th:only-of-type {\n",
       "        vertical-align: middle;\n",
       "    }\n",
       "\n",
       "    .dataframe tbody tr th {\n",
       "        vertical-align: top;\n",
       "    }\n",
       "\n",
       "    .dataframe thead th {\n",
       "        text-align: right;\n",
       "    }\n",
       "</style>\n",
       "<table border=\"1\" class=\"dataframe\">\n",
       "  <thead>\n",
       "    <tr style=\"text-align: right;\">\n",
       "      <th></th>\n",
       "      <th>index</th>\n",
       "      <th>factchecker</th>\n",
       "      <th>democrat_false</th>\n",
       "      <th>republican_false</th>\n",
       "      <th>sum</th>\n",
       "      <th>left_leaning</th>\n",
       "    </tr>\n",
       "  </thead>\n",
       "  <tbody>\n",
       "    <tr>\n",
       "      <th>0</th>\n",
       "      <td>0</td>\n",
       "      <td>Aaron Marshall</td>\n",
       "      <td>0.029412</td>\n",
       "      <td>0.117647</td>\n",
       "      <td>0.147059</td>\n",
       "      <td>1</td>\n",
       "    </tr>\n",
       "    <tr>\n",
       "      <th>1</th>\n",
       "      <td>1</td>\n",
       "      <td>Aaron Sharockman</td>\n",
       "      <td>0.056522</td>\n",
       "      <td>0.186957</td>\n",
       "      <td>0.243478</td>\n",
       "      <td>1</td>\n",
       "    </tr>\n",
       "    <tr>\n",
       "      <th>2</th>\n",
       "      <td>2</td>\n",
       "      <td>Adam Reckamp</td>\n",
       "      <td>0.000000</td>\n",
       "      <td>0.500000</td>\n",
       "      <td>0.500000</td>\n",
       "      <td>1</td>\n",
       "    </tr>\n",
       "    <tr>\n",
       "      <th>3</th>\n",
       "      <td>3</td>\n",
       "      <td>Adam Thorp</td>\n",
       "      <td>0.000000</td>\n",
       "      <td>0.400000</td>\n",
       "      <td>0.400000</td>\n",
       "      <td>1</td>\n",
       "    </tr>\n",
       "    <tr>\n",
       "      <th>4</th>\n",
       "      <td>4</td>\n",
       "      <td>Adriel Bettelheim</td>\n",
       "      <td>0.083333</td>\n",
       "      <td>0.041667</td>\n",
       "      <td>0.125000</td>\n",
       "      <td>0</td>\n",
       "    </tr>\n",
       "    <tr>\n",
       "      <th>...</th>\n",
       "      <td>...</td>\n",
       "      <td>...</td>\n",
       "      <td>...</td>\n",
       "      <td>...</td>\n",
       "      <td>...</td>\n",
       "      <td>...</td>\n",
       "    </tr>\n",
       "    <tr>\n",
       "      <th>287</th>\n",
       "      <td>287</td>\n",
       "      <td>Xander Landen</td>\n",
       "      <td>0.000000</td>\n",
       "      <td>0.166667</td>\n",
       "      <td>0.166667</td>\n",
       "      <td>1</td>\n",
       "    </tr>\n",
       "    <tr>\n",
       "      <th>288</th>\n",
       "      <td>288</td>\n",
       "      <td>Yacob Reyes</td>\n",
       "      <td>0.000000</td>\n",
       "      <td>0.400000</td>\n",
       "      <td>0.400000</td>\n",
       "      <td>1</td>\n",
       "    </tr>\n",
       "    <tr>\n",
       "      <th>289</th>\n",
       "      <td>289</td>\n",
       "      <td>Yanqi Xu</td>\n",
       "      <td>0.333333</td>\n",
       "      <td>0.000000</td>\n",
       "      <td>0.333333</td>\n",
       "      <td>0</td>\n",
       "    </tr>\n",
       "    <tr>\n",
       "      <th>290</th>\n",
       "      <td>290</td>\n",
       "      <td>Zack McMillin</td>\n",
       "      <td>0.181818</td>\n",
       "      <td>0.272727</td>\n",
       "      <td>0.454545</td>\n",
       "      <td>1</td>\n",
       "    </tr>\n",
       "    <tr>\n",
       "      <th>291</th>\n",
       "      <td>291</td>\n",
       "      <td>Zari Tarazona</td>\n",
       "      <td>0.000000</td>\n",
       "      <td>1.000000</td>\n",
       "      <td>1.000000</td>\n",
       "      <td>1</td>\n",
       "    </tr>\n",
       "  </tbody>\n",
       "</table>\n",
       "<p>292 rows × 6 columns</p>\n",
       "</div>"
      ],
      "text/plain": [
       "     index        factchecker  democrat_false  republican_false       sum  \\\n",
       "0        0     Aaron Marshall        0.029412          0.117647  0.147059   \n",
       "1        1   Aaron Sharockman        0.056522          0.186957  0.243478   \n",
       "2        2       Adam Reckamp        0.000000          0.500000  0.500000   \n",
       "3        3         Adam Thorp        0.000000          0.400000  0.400000   \n",
       "4        4  Adriel Bettelheim        0.083333          0.041667  0.125000   \n",
       "..     ...                ...             ...               ...       ...   \n",
       "287    287      Xander Landen        0.000000          0.166667  0.166667   \n",
       "288    288        Yacob Reyes        0.000000          0.400000  0.400000   \n",
       "289    289           Yanqi Xu        0.333333          0.000000  0.333333   \n",
       "290    290      Zack McMillin        0.181818          0.272727  0.454545   \n",
       "291    291      Zari Tarazona        0.000000          1.000000  1.000000   \n",
       "\n",
       "     left_leaning  \n",
       "0               1  \n",
       "1               1  \n",
       "2               1  \n",
       "3               1  \n",
       "4               0  \n",
       "..            ...  \n",
       "287             1  \n",
       "288             1  \n",
       "289             0  \n",
       "290             1  \n",
       "291             1  \n",
       "\n",
       "[292 rows x 6 columns]"
      ]
     },
     "execution_count": 149,
     "metadata": {},
     "output_type": "execute_result"
    }
   ],
   "source": [
    "r"
   ]
  },
  {
   "cell_type": "code",
   "execution_count": 150,
   "id": "ebf35665",
   "metadata": {},
   "outputs": [
    {
     "data": {
      "text/plain": [
       "1    221\n",
       "0     71\n",
       "Name: left_leaning, dtype: int64"
      ]
     },
     "execution_count": 150,
     "metadata": {},
     "output_type": "execute_result"
    }
   ],
   "source": [
    "r.left_leaning.value_counts()"
   ]
  },
  {
   "cell_type": "code",
   "execution_count": 103,
   "id": "ad9ee66a",
   "metadata": {},
   "outputs": [],
   "source": [
    "df = pd.read_csv('politifact.csv')"
   ]
  },
  {
   "cell_type": "code",
   "execution_count": 222,
   "id": "758b21f9",
   "metadata": {},
   "outputs": [],
   "source": [
    "r = r.reset_index()"
   ]
  },
  {
   "cell_type": "code",
   "execution_count": 227,
   "id": "f0d92127",
   "metadata": {},
   "outputs": [],
   "source": [
    "map_rater = []\n",
    "for row in df.iloc:\n",
    "    flag = 0\n",
    "    for rater in r.iloc:\n",
    "        if row.factchecker == rater.factchecker:\n",
    "            map_rater.append(rater.left_leaning)\n",
    "            flag = 1\n",
    "            break\n",
    "    if flag == 0:\n",
    "        map_rater.append('None')"
   ]
  },
  {
   "cell_type": "code",
   "execution_count": 228,
   "id": "1e44d2ec",
   "metadata": {},
   "outputs": [],
   "source": [
    "df['left_leaning'] = map_rater"
   ]
  },
  {
   "cell_type": "code",
   "execution_count": 229,
   "id": "236ede61",
   "metadata": {},
   "outputs": [],
   "source": [
    "df = df[df['left_leaning'] != 'None']"
   ]
  },
  {
   "cell_type": "code",
   "execution_count": 231,
   "id": "de24a848",
   "metadata": {},
   "outputs": [
    {
     "data": {
      "text/plain": [
       "1    15189\n",
       "0     2985\n",
       "Name: left_leaning, dtype: int64"
      ]
     },
     "execution_count": 231,
     "metadata": {},
     "output_type": "execute_result"
    }
   ],
   "source": [
    "df.left_leaning.value_counts()"
   ]
  },
  {
   "cell_type": "code",
   "execution_count": 232,
   "id": "63284dbd",
   "metadata": {},
   "outputs": [
    {
     "data": {
      "text/plain": [
       "18174"
      ]
     },
     "execution_count": 232,
     "metadata": {},
     "output_type": "execute_result"
    }
   ],
   "source": [
    "len(df)"
   ]
  },
  {
   "cell_type": "code",
   "execution_count": 233,
   "id": "cd51defc",
   "metadata": {},
   "outputs": [],
   "source": [
    "df.to_csv('politifact_left_leaning.csv')"
   ]
  },
  {
   "cell_type": "code",
   "execution_count": 234,
   "id": "7b3e42c3",
   "metadata": {},
   "outputs": [],
   "source": [
    "df = pd.read_csv('politifact_party.csv')"
   ]
  },
  {
   "cell_type": "code",
   "execution_count": 235,
   "id": "9867d4e9",
   "metadata": {},
   "outputs": [
    {
     "data": {
      "text/plain": [
       "13269"
      ]
     },
     "execution_count": 235,
     "metadata": {},
     "output_type": "execute_result"
    }
   ],
   "source": [
    "len(df)"
   ]
  },
  {
   "cell_type": "code",
   "execution_count": 241,
   "id": "a8531c18",
   "metadata": {},
   "outputs": [],
   "source": [
    "df = pd.read_csv('politifact.csv')"
   ]
  },
  {
   "cell_type": "code",
   "execution_count": 242,
   "id": "a71ae5b5",
   "metadata": {},
   "outputs": [
    {
     "data": {
      "text/plain": [
       "20824"
      ]
     },
     "execution_count": 242,
     "metadata": {},
     "output_type": "execute_result"
    }
   ],
   "source": [
    "len(df)"
   ]
  },
  {
   "cell_type": "code",
   "execution_count": 244,
   "id": "3e7dbce4",
   "metadata": {},
   "outputs": [
    {
     "data": {
      "text/plain": [
       "1    196\n",
       "0    145\n",
       "Name: left_leaning, dtype: int64"
      ]
     },
     "execution_count": 244,
     "metadata": {},
     "output_type": "execute_result"
    }
   ],
   "source": [
    "r.left_leaning.value_counts()"
   ]
  },
  {
   "cell_type": "code",
   "execution_count": 247,
   "id": "1f5c9479",
   "metadata": {},
   "outputs": [
    {
     "data": {
      "text/plain": [
       "(-0.5425270921892413, 1.723805186459568e-27)"
      ]
     },
     "execution_count": 247,
     "metadata": {},
     "output_type": "execute_result"
    }
   ],
   "source": [
    "from scipy import stats\n",
    "stats.pearsonr(r.republican_false, r.democrat_false)"
   ]
  }
 ],
 "metadata": {
  "kernelspec": {
   "display_name": "Python 3 (ipykernel)",
   "language": "python",
   "name": "python3"
  },
  "language_info": {
   "codemirror_mode": {
    "name": "ipython",
    "version": 3
   },
   "file_extension": ".py",
   "mimetype": "text/x-python",
   "name": "python",
   "nbconvert_exporter": "python",
   "pygments_lexer": "ipython3",
   "version": "3.8.13"
  }
 },
 "nbformat": 4,
 "nbformat_minor": 5
}
