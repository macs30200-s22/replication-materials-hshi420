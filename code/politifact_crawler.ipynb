{
 "cells": [
  {
   "cell_type": "code",
   "execution_count": 1,
   "metadata": {
    "colab": {
     "base_uri": "https://localhost:8080/"
    },
    "id": "ZsekkMX0AEk-",
    "outputId": "7e3c2cca-2771-4e04-f135-ebce28e273a9"
   },
   "outputs": [
    {
     "name": "stdout",
     "output_type": "stream",
     "text": [
      "Mounted at /content/drive\n"
     ]
    }
   ],
   "source": [
    "from google.colab import drive\n",
    "drive.mount('/content/drive')"
   ]
  },
  {
   "cell_type": "code",
   "execution_count": 2,
   "metadata": {
    "colab": {
     "base_uri": "https://localhost:8080/"
    },
    "id": "YhXOhVtENzUl",
    "outputId": "84d84ea4-70a5-419b-aa14-0bd3bed391e4"
   },
   "outputs": [
    {
     "name": "stdout",
     "output_type": "stream",
     "text": [
      "/content/drive/My Drive\n"
     ]
    }
   ],
   "source": [
    "cd /content/drive/My Drive"
   ]
  },
  {
   "cell_type": "code",
   "execution_count": 2,
   "metadata": {
    "colab": {
     "base_uri": "https://localhost:8080/",
     "height": 364
    },
    "id": "OrwFxeneCQn0",
    "outputId": "0841f17c-0279-4568-c9b2-8fc2c3f2f1bd"
   },
   "outputs": [
    {
     "name": "stdout",
     "output_type": "stream",
     "text": [
      "50\n",
      "100\n",
      "150\n",
      "200\n",
      "250\n",
      "300\n",
      "350\n",
      "400\n",
      "450\n",
      "500\n",
      "550\n",
      "600\n",
      "650\n"
     ]
    }
   ],
   "source": [
    "from bs4 import BeautifulSoup\n",
    "import requests\n",
    "from tqdm import tqdm\n",
    "from concurrent.futures import ThreadPoolExecutor\n",
    "\n",
    "def crawler(i):\n",
    "    url = 'https://www.politifact.com/factchecks/?page='+str(i)\n",
    "    fail = []\n",
    "    try:\n",
    "        page = requests.get(url)\n",
    "        soup = BeautifulSoup(page.content, 'lxml')\n",
    "    except:\n",
    "        print(i)\n",
    "        \n",
    "    results = []\n",
    "    for article in soup.select('article.m-statement.m-statement--is-medium'):\n",
    "        url_sub = 'https://www.politifact.com' + article.select('a')[1]['href']\n",
    "        try:\n",
    "            page_sub = requests.get(url_sub)\n",
    "            soup_sub = BeautifulSoup(page_sub.content, 'lxml')\n",
    "        except:\n",
    "            fail.append(url_sub)\n",
    "            continue\n",
    "        \n",
    "        try:\n",
    "            name = soup_sub.find(class_='m-statement__name')\n",
    "            name_str = name.get_text().strip()\n",
    "            name_link = 'https://www.politifact.com' + name['href']\n",
    "            statement_str = soup_sub.find(class_='m-statement__quote').get_text().strip()\n",
    "            rating_link = soup_sub.select('picture')[1].select('img')[0]['src']\n",
    "\n",
    "            when_where_str = soup_sub.find(class_='m-statement__desc').get_text().strip()\n",
    "\n",
    "            title_str = soup_sub.select('h2.c-title.c-title--subline')[0].get_text().strip()\n",
    "            content_html = soup_sub.find(class_='m-textblock')\n",
    "            content_str = content_html.get_text().strip()\n",
    "        except:\n",
    "            fail.append(url_sub)\n",
    "            continue\n",
    "        \n",
    "        try:\n",
    "            factchecker = soup_sub.find(class_='m-author__content').select('a')[0]\n",
    "        except:\n",
    "            fail.append(url_sub)\n",
    "            continue\n",
    "        \n",
    "        factchecker_str = factchecker.get_text().strip()\n",
    "        factchecker_link = 'https://www.politifact.com' + factchecker['href']\n",
    "        factcheck_date = soup_sub.find(class_='m-author__date').get_text().strip()\n",
    "\n",
    "        results.append([url_sub, \n",
    "                        name_str, \n",
    "                        name_link, \n",
    "                        statement_str, \n",
    "                        rating_link, \n",
    "                        when_where_str, \n",
    "                        title_str, \n",
    "                        content_str, \n",
    "                        content_html, \n",
    "                        factchecker_str, \n",
    "                        factchecker_link, \n",
    "                        factcheck_date])\n",
    "    return results, fail\n",
    "\n",
    "results_all = []\n",
    "fails = []\n",
    "for i in range(1, 699):\n",
    "    if i % 50 == 0:\n",
    "        print(i)\n",
    "    info = crawler(i)\n",
    "    results_all.append(info[0])\n",
    "    fails.append(info[1])"
   ]
  },
  {
   "cell_type": "code",
   "execution_count": 4,
   "metadata": {
    "colab": {
     "base_uri": "https://localhost:8080/",
     "height": 1000
    },
    "id": "wccJoojkH4yK",
    "outputId": "bac3c1ba-ff70-4509-b08b-60686d9b5d9a"
   },
   "outputs": [],
   "source": [
    "from functools import reduce\n",
    "from operator import iconcat \n",
    "import pandas as pd\n",
    "\n",
    "df = pd.DataFrame(reduce(iconcat, results_all), columns=['url', \n",
    "                                                         'speaker', \n",
    "                                                         'speaker_info', \n",
    "                                                         'statement', \n",
    "                                                         'rating', \n",
    "                                                         'where_when', \n",
    "                                                         'title', \n",
    "                                                         'content', \n",
    "                                                         'content_html', \n",
    "                                                         'factchecker', \n",
    "                                                         'factchecker_info', \n",
    "                                                         'factcheck_date'])\n",
    "\n",
    "df.to_csv('politifact.csv')"
   ]
  },
  {
   "cell_type": "code",
   "execution_count": 5,
   "metadata": {},
   "outputs": [],
   "source": [
    "fails = reduce(iconcat, fails)"
   ]
  },
  {
   "cell_type": "code",
   "execution_count": 10,
   "metadata": {},
   "outputs": [],
   "source": [
    "df_fails = pd.DataFrame(fails, columns = ['url'])\n",
    "df_fails.to_csv('fails.csv')"
   ]
  },
  {
   "cell_type": "code",
   "execution_count": 12,
   "metadata": {},
   "outputs": [],
   "source": [
    "df = pd.read_csv('politifact.csv')"
   ]
  }
 ],
 "metadata": {
  "colab": {
   "background_execution": "on",
   "collapsed_sections": [],
   "machine_shape": "hm",
   "name": "politifact_crawler.ipynb",
   "provenance": []
  },
  "kernelspec": {
   "display_name": "Python 3 (ipykernel)",
   "language": "python",
   "name": "python3"
  },
  "language_info": {
   "codemirror_mode": {
    "name": "ipython",
    "version": 3
   },
   "file_extension": ".py",
   "mimetype": "text/x-python",
   "name": "python",
   "nbconvert_exporter": "python",
   "pygments_lexer": "ipython3",
   "version": "3.9.7"
  }
 },
 "nbformat": 4,
 "nbformat_minor": 1
}
